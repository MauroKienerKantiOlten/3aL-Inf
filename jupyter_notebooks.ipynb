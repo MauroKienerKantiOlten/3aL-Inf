{
 "cells": [
  {
   "cell_type": "markdown",
   "source": [
    "# Jupyter Notebooks\r\n",
    "\r\n",
    "## Einleitung\r\n",
    "\r\n",
    "*Jupyter Notebooks* sind Dokumente die **Programmier-Code**, Gleichungen, Visualisierungen und **erzählenden Text** (*Markdown*) enthalten können. Auf diese Weise können *Jupyter Notebooks* als vollständige Aufzeichnung eines Programms dienen, indem sie ausführbaren Code mit erklärendem Text und reichhaltigen Darstellungen in einem einzelnen Dokument zusammenfassen. "
   ],
   "metadata": {}
  },
  {
   "cell_type": "markdown",
   "source": [
    "## Dokumentstruktur von Jupyter Notebooks\r\n",
    "\r\n",
    "Ein Jupyter Notebook besteht aus einer Folge von **Zellen**. Eine **Zelle** ist ein mehrzeiliges Texteingabefeld, dessen Inhalt durch Klicken auf die Schaltfläche **\"Abspielen\"** (*Run*) ausgeführt werden kann. Alternativ kann die Zelle auch durch die Tasten-Kombination `Ctrl + Enter` ausgeführt werden. Das Ausführungsverhalten einer Zelle wird durch den Typ der Zelle bestimmt. Für uns relevant sind dabei zwei Arten von Zellen:\r\n",
    "\r\n",
    "  * Codezellen\r\n",
    "  * Markdownzellen"
   ],
   "metadata": {}
  },
  {
   "cell_type": "markdown",
   "source": [
    "# Codezellen\r\n",
    "\r\n",
    "Der **Programmier-Code** wird in sogennanten *Codezellen* geschrieben. Dabei werden die einzelnen Berechnungen und Zuweisungen der *Code-Zellen* **global** im Dokument gespeichert und sind in darauffolgenden *Code-Zellen* verfügbar."
   ],
   "metadata": {}
  },
  {
   "cell_type": "markdown",
   "source": [
    "## Beispiel für Variablen speicherung\r\n",
    "\r\n",
    "Im folgenden Beispiel werden wir in einer ersten Codezelle eine Zeichenkette (`String`) in einer Variable `textString` abspeichern. Der Wert der Zeichenkette ist in der nächsten Codezelle aber immernoch verfügbar.\r\n",
    "\r\n",
    "**Achtung**: Die Variable muss natürlich zuerst definiert werden. Das heisst wir müssen zwingend zuerst die erste Codezelle ausführen, bevor die zweite Codezelle ausgeführt werden kann."
   ],
   "metadata": {}
  },
  {
   "cell_type": "code",
   "execution_count": 1,
   "source": [
    "# Wir speichern den String-Wert 'Hello World' in der Variable textString\r\n",
    "textString = 'Hello World'"
   ],
   "outputs": [],
   "metadata": {}
  },
  {
   "cell_type": "code",
   "execution_count": 3,
   "source": [
    "# Die Variable textString existiert aber immernoch in der zweiten Codezelle\r\n",
    "print(textString)"
   ],
   "outputs": [
    {
     "output_type": "stream",
     "name": "stdout",
     "text": [
      "Hello World\n"
     ]
    }
   ],
   "metadata": {}
  },
  {
   "cell_type": "markdown",
   "source": [
    "# Makrdownzellen\r\n",
    "\r\n",
    "Der erklärende Text wird in *Markdownzellen* geschrieben. Eine neue Markdownzelle kann mit dem Klick auf `+ Markdown` hinzugefügt werden. Der Text in einer Markdownzelle kann beliebig formatiert werden. Beispielsweise kann **fettgedruckter Text** und *kursiver Text* eingefügt werden.\r\n",
    "\r\n",
    "Ebenfalls können Titel, Auflistungen, Code-Beispiele, Mathematische Funktionen im geeigneten Format dargestellt werden. \r\n",
    "\r\n",
    "# Titel 1\r\n",
    "\r\n",
    "  * Mathematische Funktionen\r\n",
    "    - $f(x) = 2x$\r\n",
    "\r\n",
    "\r\n",
    "  * Python Code als Beispiel \r\n",
    "\r\n",
    "    ```python\r\n",
    "        def f(x):\r\n",
    "            return 2x\r\n",
    "    ```\r\n",
    "\r\n",
    "Mehr Informationen findest du in der [Dokumentation](https://jupyter-notebook.readthedocs.io/en/4.x/examples/Notebook/rstversions/Working%20With%20Markdown%20Cells.html)"
   ],
   "metadata": {}
  }
 ],
 "metadata": {
  "orig_nbformat": 4,
  "language_info": {
   "name": "python",
   "version": "3.9.7",
   "mimetype": "text/x-python",
   "codemirror_mode": {
    "name": "ipython",
    "version": 3
   },
   "pygments_lexer": "ipython3",
   "nbconvert_exporter": "python",
   "file_extension": ".py"
  },
  "kernelspec": {
   "name": "python3",
   "display_name": "Python 3.9.7 64-bit"
  },
  "interpreter": {
   "hash": "a4e1eb2ff90f4927b8f5f3d98b7cb0a482f9642de3a6c820b6887de12f30fef9"
  }
 },
 "nbformat": 4,
 "nbformat_minor": 2
}