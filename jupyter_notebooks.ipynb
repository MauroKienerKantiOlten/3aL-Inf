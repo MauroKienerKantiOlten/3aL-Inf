{
 "cells": [
  {
   "cell_type": "markdown",
   "metadata": {},
   "source": [
    "# Jupyter Notebooks\n",
    "\n",
    "## Einleitung\n",
    "\n",
    "*Jupyter Notebooks* sind Dokumente die **Programmier-Code**, Gleichungen, Visualisierungen und **erzählenden Text** (*Markdown*) enthalten können. Auf diese Weise können *Jupyter Notebooks* als vollständige Aufzeichnung eines Programms dienen, indem sie ausführbaren Code mit erklärendem Text und reichhaltigen Darstellungen in einem einzelnen Dokument zusammenfassen. "
   ]
  },
  {
   "cell_type": "markdown",
   "metadata": {},
   "source": [
    "## Dokumentstruktur von Jupyter Notebooks\n",
    "\n",
    "Ein Jupyter Notebook besteht aus einer Folge von **Zellen**. Eine **Zelle** ist ein mehrzeiliges Texteingabefeld, dessen Inhalt durch Klicken auf die Schaltfläche **\"Abspielen\"** (*Run*) ausgeführt werden kann. Alternativ kann die Zelle auch durch die Tasten-Kombination `Ctrl + Enter` ausgeführt werden. Das Ausführungsverhalten einer Zelle wird durch den Typ der Zelle bestimmt. Für uns relevant sind dabei zwei Arten von Zellen:\n",
    "\n",
    "  * Codezellen\n",
    "  * Markdownzellen"
   ]
  },
  {
   "cell_type": "markdown",
   "metadata": {},
   "source": [
    "# Codezellen\n",
    "\n",
    "Der **Programmier-Code** wird in sogennanten *Codezellen* geschrieben. Dabei werden die einzelnen Berechnungen und Zuweisungen der *Code-Zellen* **global** im Dokument gespeichert und sind in darauffolgenden *Code-Zellen* verfügbar."
   ]
  },
  {
   "cell_type": "markdown",
   "metadata": {},
   "source": [
    "## Beispiel für Variablenspeicherung\n",
    "\n",
    "Im folgenden Beispiel werden wir in einer ersten Codezelle eine Zeichenkette (`String`) in einer Variable `textString` abspeichern. Der Wert der Zeichenkette ist in der nächsten Codezelle aber immernoch verfügbar.\n",
    "\n",
    "**Achtung**: Die Variable muss natürlich zuerst definiert werden. Das heisst wir müssen zwingend zuerst die erste Codezelle ausführen, bevor die zweite Codezelle ausgeführt werden kann."
   ]
  },
  {
   "cell_type": "code",
   "execution_count": 2,
   "metadata": {},
   "outputs": [],
   "source": [
    "# Wir speichern den String-Wert 'Hello World' in der Variable textString\n",
    "textString = 'Hello World'"
   ]
  },
  {
   "cell_type": "code",
   "execution_count": 3,
   "metadata": {},
   "outputs": [
    {
     "name": "stdout",
     "output_type": "stream",
     "text": [
      "Hello World\n"
     ]
    }
   ],
   "source": [
    "# Die Variable textString existiert aber immernoch in der zweiten Codezelle\n",
    "print(textString)"
   ]
  },
  {
   "cell_type": "markdown",
   "metadata": {},
   "source": [
    "# Makrdownzellen\n",
    "\n",
    "Der erklärende Text wird in *Markdownzellen* geschrieben. Eine neue Markdownzelle kann mit dem Klick auf `+ Markdown` hinzugefügt werden. Der Text in einer Markdownzelle kann beliebig formatiert werden. Beispielsweise kann **fettgedruckter Text** und *kursiver Text* eingefügt werden.\n",
    "\n",
    "Ebenfalls können Titel, Auflistungen, Code-Beispiele, Mathematische Funktionen im geeigneten Format dargestellt werden. \n",
    "\n",
    "# Titel 1\n",
    "\n",
    "  * Mathematische Funktionen\n",
    "    - $f(x) = 2x$\n",
    "\n",
    "\n",
    "  * Python Code als Beispiel \n",
    "\n",
    "    ```python\n",
    "        def f(x):\n",
    "            return 2x\n",
    "    ```\n",
    "\n",
    "Mehr Informationen findest du in der [Dokumentation](https://jupyter-notebook.readthedocs.io/en/4.x/examples/Notebook/rstversions/Working%20With%20Markdown%20Cells.html)"
   ]
  }
 ],
 "metadata": {
  "interpreter": {
   "hash": "a4e1eb2ff90f4927b8f5f3d98b7cb0a482f9642de3a6c820b6887de12f30fef9"
  },
  "kernelspec": {
   "display_name": "Python 3.9.7 64-bit",
   "name": "python3"
  },
  "language_info": {
   "codemirror_mode": {
    "name": "ipython",
    "version": 3
   },
   "file_extension": ".py",
   "mimetype": "text/x-python",
   "name": "python",
   "nbconvert_exporter": "python",
   "pygments_lexer": "ipython3",
   "version": "3.9.7"
  },
  "orig_nbformat": 4
 },
 "nbformat": 4,
 "nbformat_minor": 2
}
