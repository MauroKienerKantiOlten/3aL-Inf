{
 "cells": [
  {
   "cell_type": "markdown",
   "metadata": {},
   "source": [
    "# Repetition 1\n",
    "\n",
    "## Quadratische Gleichungen mit Python\n",
    "\n",
    "In diesem Notebook wollen wir mit Hife von Python quadratische Gleichungen lösen. Zuerst beschäftigen wir uns aber mit f-Strings."
   ]
  },
  {
   "cell_type": "markdown",
   "metadata": {},
   "source": [
    "## f-Strings\n",
    "\n",
    "*f-Strings* werden zum Formatieren von `Strings` (Zeichenketten) verwendet. Ein *f-String* besteht aus dem Buchstaben f bzw. F und einem String in einfache, doppelten oder dreifachen Anführungszeichen."
   ]
  },
  {
   "cell_type": "code",
   "execution_count": 6,
   "metadata": {},
   "outputs": [
    {
     "name": "stdout",
     "output_type": "stream",
     "text": [
      "<class 'str'>\n",
      "halloWelt\n"
     ]
    }
   ],
   "source": [
    "x=f\"halloWelt\"\n",
    "\n",
    "print(type(x))\n",
    "print(x)"
   ]
  },
  {
   "cell_type": "markdown",
   "metadata": {},
   "source": [
    "Der Vorteil von f-Strings ist, dass in geschweiften Klammern ({}) Python-Ausdrücke geschrieben werden können, welche zur Ausführzeit augewertet werden."
   ]
  },
  {
   "cell_type": "markdown",
   "metadata": {},
   "source": [
    "**Beispiel:**"
   ]
  },
  {
   "cell_type": "code",
   "execution_count": 17,
   "metadata": {},
   "outputs": [
    {
     "name": "stdout",
     "output_type": "stream",
     "text": [
      "Variable a ist a 3\n",
      "Sind in einem rechtwinkligen Dreieck die Katheten a = 3 cm und b = 4 cm lang, so ist die Hypotenuse c = 5.0 cm lang.\n"
     ]
    }
   ],
   "source": [
    "from math import sqrt #Importiert aus dem Modul math die Wurzelfunktion sqrt\n",
    "a = 3\n",
    "b = 4\n",
    "\n",
    "print(f'Sind in einem rechtwinkligen Dreieck die Katheten a = {a} cm und b = {b} cm lang, so ist die Hypotenuse c = {sqrt(a**2+b**2)} cm lang.')"
   ]
  },
  {
   "cell_type": "markdown",
   "metadata": {},
   "source": [
    "**Beispiel:**"
   ]
  },
  {
   "cell_type": "code",
   "execution_count": 7,
   "metadata": {},
   "outputs": [
    {
     "name": "stdout",
     "output_type": "stream",
     "text": [
      "Dein Name lautet Mauro.\n"
     ]
    }
   ],
   "source": [
    "# Die Variable 'name' speichert die Eingabe des Benutzers\n",
    "name = input(\"Wie lautet dein Name?\")\n",
    "print(f\"Dein Name lautet {name}.\")"
   ]
  },
  {
   "cell_type": "markdown",
   "metadata": {},
   "source": [
    "**Aufgabe 1:** Schreib mit Hilfe eines *f-Strings* ein kleines Programm mit zwei Variablen x und y, denen du Werte zuweist, und einer Ausgabe der Form:\n",
    "  * \"Das Produkt von x und y ist 45.\""
   ]
  },
  {
   "cell_type": "code",
   "execution_count": 16,
   "metadata": {},
   "outputs": [
    {
     "name": "stdout",
     "output_type": "stream",
     "text": [
      "Das Produkt von 27 und 85 ist 2295\n"
     ]
    }
   ],
   "source": [
    "#Hier kommt dein Programm hin\n",
    "\n",
    "x = int(input(\"Wähle eine Zahl für x\"))\n",
    "y = int(input(\"Wähle eine Zahl für y\"))\n",
    "\n",
    "print(f'Das Produkt von {x} und {y} ist {x*y}')"
   ]
  },
  {
   "cell_type": "markdown",
   "metadata": {},
   "source": [
    "### Quadratische Gleichungen\n",
    "\n",
    "Wir wollen eine Funktion schreiben, welche quadratische Gleichungen der Form $ax^2+bx+c=0$ löst. Dabei soll diese Funktion die Lösungen als Liste ausgeben. Hat die Gleichung keine Lösung, so soll die Liste leer sein.\n",
    "\n",
    "Eine quadratische Gleichung speichern wir dabei ebenfalls in einer Liste, wobei wir die Koeffizienten als Elemente der Liste abspeichern. Die quadratische Gleichng $2x^2+5x-1=0$ soll zum Beispiel als Liste $[2,5,-1]$ gespeichert werden.\n",
    "\n",
    "**Beispiel:**"
   ]
  },
  {
   "cell_type": "code",
   "execution_count": null,
   "metadata": {},
   "outputs": [],
   "source": [
    "gleichung_1 = [2,5,-1]\n",
    "\n",
    "print(str(gleichung_1[0])+\"x^2+\"+str(gleichung_1[1])+\"x\"+str(gleichung_1[2])+\"=0\")"
   ]
  },
  {
   "cell_type": "markdown",
   "metadata": {},
   "source": [
    "**Zur Erinnerung:** In Python kann auf Elemente einer Liste mit eckigen Klammern zugegriffen werden. Dabei wird immer mit 0 zu zählen begonnen.\n",
    "\n",
    "[Python-Listen auf W3Schools](https://www.w3schools.com/python/python_lists.asp)"
   ]
  },
  {
   "cell_type": "code",
   "execution_count": null,
   "metadata": {},
   "outputs": [],
   "source": [
    "tiere = [\"Hund\", \"Katze\", \"Papagei\", \"Krokodil\", \"Hase\", \"Ameise\", \"Einhorn\"]\n",
    "print(tiere[0])\n",
    "print(tiere[2])"
   ]
  },
  {
   "cell_type": "markdown",
   "metadata": {},
   "source": [
    "**Zur Erinnerung**: So werden Funktionen in Python umgesetzt:\n",
    "\n",
    "[Python Funktionen auf W3Schools](https://www.w3schools.com/python/python_functions.asp)"
   ]
  },
  {
   "cell_type": "code",
   "execution_count": null,
   "metadata": {},
   "outputs": [],
   "source": [
    "def quadrat(zahl):\n",
    "    \"\"\"Funktion, welche das Quadrat einer Zahl berechnet\"\"\"\n",
    "    return zahl**2\n",
    "\n",
    "resultat = quadrat(5) #Funktionsaufruf\n",
    "print(resultat)"
   ]
  },
  {
   "cell_type": "markdown",
   "metadata": {},
   "source": [
    "**Aufgabe 2:** Die Ausgabe der quadratischen Gleichung im obigen Beispiel ist sehr umständlich geschrieben. Schreibe eine Funktion `print_gleichung(gleichung)`, welche eine *Liste-Gleichung* mit 3 Elementen als Argument bekommt und die entsprechende Gleichung mit Hilfe eines *f-Strings* ausgibt.\n",
    "\n",
    "Zum Beispiel müsste \n",
    "```python\n",
    "    print_gleichung([3,5,7]) \n",
    "```\n",
    "    \n",
    "die Ausgabe **3x^2+5x+7=0** erzeugen."
   ]
  },
  {
   "cell_type": "code",
   "execution_count": 12,
   "metadata": {},
   "outputs": [
    {
     "name": "stdout",
     "output_type": "stream",
     "text": [
      "hello World\n"
     ]
    }
   ],
   "source": [
    "def print_gleichung(gleichung):\n",
    "    #Hier kommt dein Code hin\n",
    "    pass #Dies ist eine Nichtoperation, bei Ausführen passiert nichts\n",
    "\n",
    "gleichung_2 = [3,5,7]\n",
    "print_gleichung(gleichung_2) #Zum Testen deiner Funktion"
   ]
  },
  {
   "cell_type": "markdown",
   "metadata": {},
   "source": [
    "Die Diskriminante $D=b^2-4ac$ einer quadratischen Gleichung $ax^2+bx+c=0$ gibt an, wie viele Lösungen die Gleichung hat.\n",
    "\n",
    "- Ist $D < 0$, hat die Gleichung keine Lösung\n",
    "- Ist $D = 0$, hat die Gleichung eine Lösung\n",
    "- Ist $D > 0$, hat die Gleichung zwei Lösungen\n",
    "\n",
    "**Aufgabe 3**: Schreibe eine Funktion `diskriminante(gleichung)` welche eine Liste-Gleichung mit 3 Elementen als Argument bekommt und die Diskriminante der entsprechenden quadratischen Gleichung mit return zurückgibt.\n",
    "\n",
    "Hinweis: Eine Potenz kann in Python mit ** angeben werden."
   ]
  },
  {
   "cell_type": "code",
   "execution_count": null,
   "metadata": {},
   "outputs": [],
   "source": [
    "print(2**3)"
   ]
  },
  {
   "cell_type": "code",
   "execution_count": null,
   "metadata": {},
   "outputs": [],
   "source": [
    "def diskriminante(gleichung):\n",
    "    return # Hier kommt dein Code hin\n",
    "\n",
    "gleichung_3 = [2,5,1]\n",
    "print(diskriminante(gleichung_3)) #Zum Testen deiner Funktion, das Resultat müsste 17 lauten"
   ]
  },
  {
   "cell_type": "markdown",
   "metadata": {},
   "source": [
    "**Aufgabe 4:** Schreibe eine Funktion `loesungsmenge(gleichung)`, welche eine Liste-Gleichung mit 3 Elementen als Argument bekommt und die Lösungsmenge der entsprechenden quadratischen Gleichung als Liste zurückgibt. Diese Liste hat entweder 0, 1 oder 2 Elemente.\n",
    "\n",
    "Zur Erinnerung:\n",
    "- Ist die Diskriminante $D < 0$, so ist die Lösungsmenge leer.\n",
    "- Ist $D=0$ hat die Lösungsmenge ein Element und zwar $-\\frac{b}{2a}$\n",
    "- Ist $D > 0$ hat die Lösungsmenge zwei Elemente und zwar $\\frac{-b\\pm\\sqrt{b^2-4ac}}{2a}$\n",
    "\n",
    "Tipps: \n",
    "- Benutze deine Funktion `diskriminante`.\n",
    "- Hier noch einmal ein Beispiel wie eine Selektion in Python funktioniert:\n"
   ]
  },
  {
   "cell_type": "code",
   "execution_count": null,
   "metadata": {},
   "outputs": [],
   "source": [
    "from random import randint\n",
    "wuerfelwurf = randint(1,6) #erzeugt eine natürliche Zufallszahl zwischen 1 und 6\n",
    "\n",
    "if wuerfelwurf == 1:\n",
    "    print(\"Du Pechvogel (eine 1 wurde gewürfelt)\")\n",
    "elif wuerfelwurf < 6:\n",
    "    print(\"Weder Glück noch Pech (eine Zahl zwischen 2 und 5 wurde gewürfelt)\")\n",
    "else:\n",
    "    print(\"Du Glückspilz (eine 6 wurde gewürfelt)\") "
   ]
  },
  {
   "cell_type": "code",
   "execution_count": null,
   "metadata": {},
   "outputs": [],
   "source": [
    "from math import sqrt #Importiert aus dem Modul math die Wurzelfunktion sqrt\n",
    "\n",
    "def loesungsmenge(gleichung):\n",
    "    # Hier kommt dein Code hin\n",
    "    return\n",
    "\n",
    "testgleichung1 = [2,-15,18]\n",
    "testgleichung2 = [5,-8,4]\n",
    "testgleichung3 = [-1,70,-1225]\n",
    "print(loesungsmenge(testgleichung1)) #Zum Testen deiner Funktion, das Resultat müsste [1.5,6.0] lauten\n",
    "print(loesungsmenge(testgleichung2)) #Zum Testen deiner Funktion, das Resultat müsste [] lauten\n",
    "print(loesungsmenge(testgleichung3)) #Zum Testen deiner Funktion, das Resultat müsste [35.0] lauten"
   ]
  },
  {
   "cell_type": "markdown",
   "metadata": {},
   "source": [
    "**Aufgabe 5:** Fasse nun alles zusammen:"
   ]
  },
  {
   "cell_type": "code",
   "execution_count": 2,
   "metadata": {},
   "outputs": [],
   "source": [
    "gleichung = [2,-7,3]\n",
    "\n",
    "#Gib hier die Gleichung schön aus (benutze deine Funktion print_gleichung).\n",
    "#Gib hier die Diskriminate aus (benutzen deine Funktion diskriminante).\n",
    "#Gib hier hier die Lösungsmenge aus (benutze deine Funktion loesungsmenge)."
   ]
  },
  {
   "cell_type": "markdown",
   "metadata": {},
   "source": [
    "**Zusatzaufgabe 1:** Leider werden Gleichungen mit negativen Koeffizienten mit der Funktion `print_gleichung` nicht schön dargestellt (z.B. 2x^2+-7x+3=0). Versuche die Funktion entsprechend anzupassen.\n",
    "\n",
    "Auch Gleichungen mit 0 als Koeffizient werden nicht schön angezeigt, auch für diese Fall musst du die Funktion entsprechend anpassen."
   ]
  },
  {
   "cell_type": "markdown",
   "metadata": {},
   "source": [
    "**Zusatzaufgabe 2:** Ist a=0 (d.h. die Gleichung ist linear) wird ein ZeroDivisionError erzeugt. Versuche deine Funktion `loesungsmenge` so anzupassen, dass sie auch lineare Funktionen lösen kann. \n",
    "**Achtung**: Auch bei linearen Funktionen kann es sein, dass die Gleichung keine Lösung besitzt. "
   ]
  }
 ],
 "metadata": {
  "interpreter": {
   "hash": "a4e1eb2ff90f4927b8f5f3d98b7cb0a482f9642de3a6c820b6887de12f30fef9"
  },
  "kernelspec": {
   "display_name": "Python 3.9.7 64-bit",
   "name": "python3"
  },
  "language_info": {
   "codemirror_mode": {
    "name": "ipython",
    "version": 3
   },
   "file_extension": ".py",
   "mimetype": "text/x-python",
   "name": "python",
   "nbconvert_exporter": "python",
   "pygments_lexer": "ipython3",
   "version": "3.9.7"
  },
  "orig_nbformat": 4
 },
 "nbformat": 4,
 "nbformat_minor": 2
}
