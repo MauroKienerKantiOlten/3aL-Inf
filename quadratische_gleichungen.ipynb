{
 "cells": [
  {
   "cell_type": "markdown",
   "source": [
    "# Repetition\r\n",
    "\r\n",
    "## Quadratische Gleichungen mit Python\r\n",
    "\r\n",
    "In diesem Notebook wollen wir mit Hife von Python quadratische Gleichungen lösen. Zuerst beschäftigen wir uns aber mit f-Strings."
   ],
   "metadata": {}
  },
  {
   "cell_type": "markdown",
   "source": [
    "## f-Strings\r\n",
    "\r\n",
    "*f-Strings* werden zum Formatieren von `Strings` (Zeichenketten) verwendet. Ein *f-String* besteht aus dem Buchstaben f bzw. F und einem String in einfache, doppelten oder dreifachen Anführungszeichen."
   ],
   "metadata": {}
  },
  {
   "cell_type": "code",
   "execution_count": null,
   "source": [
    "x=f\"hallo\"\r\n",
    "\r\n",
    "print(type(x))\r\n",
    "print(x)"
   ],
   "outputs": [],
   "metadata": {}
  },
  {
   "cell_type": "markdown",
   "source": [
    "Der Vorteil von f-Strings ist, dass in geschweiften Klammern ({}) Python-Ausdrücke geschrieben werden können, welche zur Ausführzeit augewertet werden."
   ],
   "metadata": {}
  },
  {
   "cell_type": "markdown",
   "source": [
    "**Beispiel:**"
   ],
   "metadata": {}
  },
  {
   "cell_type": "code",
   "execution_count": null,
   "source": [
    "from math import sqrt #Importiert aus dem Modul math die Wurzelfunktion sqrt\r\n",
    "a = 3\r\n",
    "b = 4\r\n",
    "\r\n",
    "print(f'Sind in einem rechtwinkligen Dreieck die Katheten a = {a} cm und b = {b} cm lang, so ist die Hypotenuse c = {sqrt(a**2+b**2)} cm lang.')"
   ],
   "outputs": [],
   "metadata": {}
  },
  {
   "cell_type": "markdown",
   "source": [
    "**Beispiel:**"
   ],
   "metadata": {}
  },
  {
   "cell_type": "code",
   "execution_count": null,
   "source": [
    "name = input(\"Wie lautet dein Name?\")\r\n",
    "print(f\"Dein Name lautet {name}.\")"
   ],
   "outputs": [],
   "metadata": {}
  },
  {
   "cell_type": "markdown",
   "source": [
    "**Aufgabe 1:** Schreib mit Hilfe eines *f-Strings* ein kleines Programm mit zwei Variablen x und y, denen du Werte zuweist, und einer Ausgabe der Form:\r\n",
    "  * \"Das Produkt von x und y ist 45.\""
   ],
   "metadata": {}
  },
  {
   "cell_type": "code",
   "execution_count": null,
   "source": [
    "#Hier kommt dein Programm hin"
   ],
   "outputs": [],
   "metadata": {}
  },
  {
   "cell_type": "markdown",
   "source": [
    "### Quadratische Gleichungen\n",
    "\n",
    "Wir wollen eine Funktion schreiben, welche quadratische Gleichungen der Form $ax^2+bx+c=0$ löst. Dabei soll diese Funktion die Lösungen als Liste ausgeben. Hat die Gleichung keine Lösung, so soll die Liste leer sein.\n",
    "\n",
    "Eine quadratische Gleichung speichern wir dabei ebenfalls in einer Liste, wobei wir die Koeffizienten als Elemente der Liste abspeichern. Die quadratische Gleichng $2x^2+5x-1=0$ soll zum Beispiel als Liste $[2,5,-1]$ gespeichert werden.\n",
    "\n",
    "**Beispiel:**"
   ],
   "metadata": {}
  },
  {
   "cell_type": "code",
   "execution_count": null,
   "source": [
    "gleichung_1 = [2,5,-1]\r\n",
    "\r\n",
    "print(str(gleichung_1[0])+\"x^2+\"+str(gleichung_1[1])+\"x\"+str(gleichung_1[2])+\"=0\")"
   ],
   "outputs": [],
   "metadata": {}
  },
  {
   "cell_type": "markdown",
   "source": [
    "**Zur Erinnerung:** In Python kann auf Elemente einer Liste mit eckigen Klammern zugegriffen werden. Dabei wird immer mit 0 zu zählen begonnen."
   ],
   "metadata": {}
  },
  {
   "cell_type": "code",
   "execution_count": null,
   "source": [
    "tiere = [\"Hund\", \"Katze\", \"Papagei\", \"Krokodil\", \"Hase\", \"Ameise\", \"Einhorn\"]\r\n",
    "print(tiere[0])\r\n",
    "print(tiere[2])"
   ],
   "outputs": [],
   "metadata": {}
  },
  {
   "cell_type": "markdown",
   "source": [
    "**Zur Erinnerung**: So werden Funktionen in Python umgesetzt:"
   ],
   "metadata": {}
  },
  {
   "cell_type": "code",
   "execution_count": null,
   "source": [
    "def quadrat(zahl):\r\n",
    "    \"\"\"Funktion, welche das Quadrat einer Zahl berechnet\"\"\"\r\n",
    "    return zahl**2\r\n",
    "\r\n",
    "resultat = quadrat(5) #Funktionsaufruf\r\n",
    "print(resultat)"
   ],
   "outputs": [],
   "metadata": {}
  },
  {
   "cell_type": "markdown",
   "source": [
    "**Aufgabe 2:** Die Ausgabe der quadratischen Gleichung im obigen Beispiel ist sehr umständlich geschrieben. Schreibe eine Funktion `print_gleichung(gleichung)`, welche eine *Liste-Gleichung* mit 3 Elementen als Argument bekommt und die entsprechende Gleichung mit Hilfe eines *f-Strings* ausgibt.\r\n",
    "\r\n",
    "Zum Beispiel müsste \r\n",
    "```python\r\n",
    "    print_gleichung([3,5,7]) \r\n",
    "```\r\n",
    "    \r\n",
    "die Ausgabe **3x^2+5x+7=0** erzeugen."
   ],
   "metadata": {}
  },
  {
   "cell_type": "code",
   "execution_count": null,
   "source": [
    "def print_gleichung(gleichung):\r\n",
    "    #Hier kommt dein Code hin\r\n",
    "    pass #Dies ist eine Nichtoperation, bei Ausführen passiert nichts\r\n",
    "\r\n",
    "gleichung_2 = [3,5,7]\r\n",
    "print_gleichung(gleichung_2) #Zum Testen deiner Funktion"
   ],
   "outputs": [],
   "metadata": {}
  },
  {
   "cell_type": "markdown",
   "source": [
    "Die Diskriminante $D=b^2-4ac$ einer quadratischen Gleichung $ax^2+bx+c=0$ gibt an, wie viele Lösungen die Gleichung hat.\r\n",
    "\r\n",
    "- Ist $D < 0$, hat die Gleichung keine Lösung\r\n",
    "- Ist $D = 0$, hat die Gleichung eine Lösung\r\n",
    "- Ist $D > 0$, hat die Gleichung zwei Lösungen\r\n",
    "\r\n",
    "**Aufgabe 3**: Schreibe eine Funktion `diskriminante(gleichung)` welche eine Liste-Gleichung mit 3 Elementen als Argument bekommt und die Diskriminante der entsprechenden quadratischen Gleichung mit return zurückgibt.\r\n",
    "\r\n",
    "Hinweis: Eine Potenz kann in Python mit ** angeben werden."
   ],
   "metadata": {}
  },
  {
   "cell_type": "code",
   "execution_count": null,
   "source": [
    "print(2**3)"
   ],
   "outputs": [],
   "metadata": {}
  },
  {
   "cell_type": "code",
   "execution_count": null,
   "source": [
    "def diskriminante(gleichung):\r\n",
    "    return # Hier kommt dein Code hin\r\n",
    "\r\n",
    "gleichung_3 = [2,5,1]\r\n",
    "print(diskriminante(gleichung_3)) #Zum Testen deiner Funktion, das Resultat müsste 17 lauten"
   ],
   "outputs": [],
   "metadata": {}
  },
  {
   "cell_type": "markdown",
   "source": [
    "**Aufgabe 4:** Schreibe eine Funktion `loesungsmenge(gleichung)`, welche eine Liste-Gleichung mit 3 Elementen als Argument bekommt und die Lösungsmenge der entsprechenden quadratischen Gleichung als Liste zurückgibt. Diese Liste hat entweder 0, 1 oder 2 Elemente.\r\n",
    "\r\n",
    "Zur Erinnerung:\r\n",
    "- Ist die Diskriminante $D < 0$, so ist die Lösungsmenge leer.\r\n",
    "- Ist $D=0$ hat die Lösungsmenge ein Element und zwar $-\\frac{b}{2a}$\r\n",
    "- Ist $D > 0$ hat die Lösungsmenge zwei Elemente und zwar $\\frac{-b\\pm\\sqrt{b^2-4ac}}{2a}$\r\n",
    "\r\n",
    "Tipps: \r\n",
    "- Benutze deine Funktion `diskriminante`.\r\n",
    "- Hier noch einmal ein Beispiel wie eine Selektion in Python funktioniert:\r\n"
   ],
   "metadata": {}
  },
  {
   "cell_type": "code",
   "execution_count": null,
   "source": [
    "from random import randint\r\n",
    "wuerfelwurf = randint(1,6) #erzeugt eine natürliche Zufallszahl zwischen 1 und 6\r\n",
    "\r\n",
    "if wuerfelwurf == 1:\r\n",
    "    print(\"Du Pechvogel (eine 1 wurde gewürfelt)\")\r\n",
    "elif wuerfelwurf < 6:\r\n",
    "    print(\"Weder Glück noch Pech (eine Zahl zwischen 2 und 5 wurde gewürfelt)\")\r\n",
    "else:\r\n",
    "    print(\"Du Glückspilz (eine 6 wurde gewürfelt)\") "
   ],
   "outputs": [],
   "metadata": {}
  },
  {
   "cell_type": "code",
   "execution_count": null,
   "source": [
    "from math import sqrt #Importiert aus dem Modul math die Wurzelfunktion sqrt\r\n",
    "\r\n",
    "def loesungsmenge(gleichung):\r\n",
    "    # Hier kommt dein Code hin\r\n",
    "    return\r\n",
    "\r\n",
    "testgleichung1 = [2,-15,18]\r\n",
    "testgleichung2 = [5,-8,4]\r\n",
    "testgleichung3 = [-1,70,-1225]\r\n",
    "print(loesungsmenge(testgleichung1)) #Zum Testen deiner Funktion, das Resultat müsste [1.5,6.0] lauten\r\n",
    "print(loesungsmenge(testgleichung2)) #Zum Testen deiner Funktion, das Resultat müsste [] lauten\r\n",
    "print(loesungsmenge(testgleichung3)) #Zum Testen deiner Funktion, das Resultat müsste [35.0] lauten"
   ],
   "outputs": [],
   "metadata": {}
  },
  {
   "cell_type": "markdown",
   "source": [
    "**Aufgabe 5:** Fassen Sie nun alles zusammen:"
   ],
   "metadata": {}
  },
  {
   "cell_type": "code",
   "execution_count": null,
   "source": [
    "gleichung = [2,-7,3]\r\n",
    "\r\n",
    "#Gib hier die Gleichung schön aus (benutze deine Funktion print_gleichung).\r\n",
    "#Gib hier die Diskriminate aus (benutzen deine Funktion diskriminante).\r\n",
    "#Gib Sie hier die Lösungsmenge aus (benutze deine Funktion loesungsmenge)."
   ],
   "outputs": [],
   "metadata": {}
  },
  {
   "cell_type": "markdown",
   "source": [
    "**Zusatzaufgabe 1:** Leider werden Gleichungen mit negativen Koeffizienten mit der Funktion `print_gleichung` nicht schön dargestellt (z.B. 2x^2+-7x+3=0). Versuche die Funktion entsprechend anzupassen.\r\n",
    "\r\n",
    "Auch Gleichungen mit 0 als Koeffizient werden nicht schön angezeigt, auch für diese Fall musst du die Funktion entsprechend anpassen."
   ],
   "metadata": {}
  },
  {
   "cell_type": "markdown",
   "source": [
    "**Zusatzaufgabe 2:** Ist a=0 (d.h. die Gleichung ist linear) wird ein ZeroDivisionError erzeugt. Versuche deine Funktion `loesungsmenge` so anzupassen, dass sie auch lineare Funktionen lösen kann."
   ],
   "metadata": {}
  }
 ],
 "metadata": {
  "interpreter": {
   "hash": "a4e1eb2ff90f4927b8f5f3d98b7cb0a482f9642de3a6c820b6887de12f30fef9"
  },
  "kernelspec": {
   "name": "python3",
   "display_name": "Python 3.9.7 64-bit"
  },
  "language_info": {
   "codemirror_mode": {
    "name": "ipython",
    "version": 3
   },
   "file_extension": ".py",
   "mimetype": "text/x-python",
   "name": "python",
   "nbconvert_exporter": "python",
   "pygments_lexer": "ipython3",
   "version": "3.9.7"
  },
  "orig_nbformat": 4
 },
 "nbformat": 4,
 "nbformat_minor": 2
}