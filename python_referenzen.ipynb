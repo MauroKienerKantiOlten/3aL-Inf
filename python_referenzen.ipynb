{
 "cells": [
  {
   "cell_type": "markdown",
   "metadata": {},
   "source": [
    "# Python Referenzen\n",
    "\n",
    "Dieses Notebook wiederholt Grundkonzepte der Programmiersprache Python und deren Syntax (Schreibweise).\n",
    "Obwohl es nicht eine vollständige Zusammenfassung des bereits erlenten Stoffs ist, soll dieses Notebook als Hilfe für zukünftige Programmieraufgaben dienen. \n",
    "\n",
    "## Inhaltsverzeichnis\n",
    "\n",
    "- [1. Einleitung](#einleitung)\n",
    "  - [Python](#python)\n",
    "- [2. Erste Schritte](#first-steps)\n",
    "  - [print() und input()](#print-input)\n",
    "- [3. Syntax](#syntax)\n",
    "  - [Variablen und Operatoren](#var-und-operatoren)\n",
    "- [4. Datentypen](#datentypen)\n",
    "  - [Zahlen](#zahlen)\n",
    "  - [Zeichenketten](#zeichenketten)\n",
    "  - [Listen](#listen)\n",
    "  - [Wahrheitswerte](#booleans)\n",
    "- [5. Programmierkurs](#programmierkurs)\n",
    "  - [Verzweigungen](#verzweigungen)\n",
    "  - [Schleifen](#schleifen)\n",
    "    - [for-Schleife](#for-schleife)\n",
    "    - [while-Schleife](#while-schleife)\n",
    "- [6. Weiterführende Programmierung](#weiterfuehrende-programmierung)\n",
    "  - [Funktionen](#funktionen)\n",
    "    - [Parameter](#parameter)\n",
    "    - [Rückgabewerte](#rueckgabewerte)\n",
    "  - [Eingebaute Funktionen](#eingebaute-funktionen)\n",
    "  - [Ausgabe und Formatierung](#ausgabe-formatierung)\n",
    "    - [Funktion print()](#print)\n",
    "  - [Module](#module)"
   ]
  },
  {
   "cell_type": "markdown",
   "metadata": {},
   "source": [
    "# 1. Einleitung <a class=\"anchor\" id=\"einleitung\"></a>\n",
    "\n",
    "**Hintergrund Programmiersprachen**<br>\n",
    "Alle Berechnungen und Abläufe die auf einem Computer durchgeführt werden, werden vom sogenannten **Prozessor** ausgeführt. Dieser **Prozessor** (*CPU für **C**entral **P**rocessing **U**nit*) folgt Anweisungen und Befehlen die ihm zugewiesen werden. Der **Prozessor** versteht Instruktionen aber nur, wenn diese in **Bit-Wörtern** (001101011..) geschrieben sind. Solche **Bit-Wörter** könn(t)en mit der [**Maschinensprache**](https://de.wikipedia.org/wiki/Maschinensprache) vom Programmierer geschrieben werden. Diese **Maschinensprache** ist jedoch sehr schwierig zu erlernen und braucht häufig mehrere Zeilen um eine einfache Berechnung, wie die Addition von zwei Zahlen, auf dem Prozessor durchzuführen.\n",
    "Deshalb wurden *höhere Programmiersprachen* entwickelt.<br><br> Höhere Programmiersprachen, oder einfach *Programmiersprachen*, sind **formale Sprachen** zur Formulierung von Datenstrukturen und Algorithmen. Sie haben das Ziel, dem Menschen eine *leichter verständliche Ausdrucksweise* bei der Programmierung zu erlauben. Nachdem der Entwickler sein Programm, in der *höheren Programmiersprache*, fertig geschrieben hat, muss es noch in *Bit-Wörter* **übersetzt** werden, damit es vom **Prozessor** auch wirklich ausgeführt werden kann. Die Übersetzung wird von einem sogenannten **Interpreter** oder **Compiler** durchgeführt."
   ]
  },
  {
   "cell_type": "markdown",
   "metadata": {},
   "source": [
    "## 1.1 Python <a class=\"anchor\" id=\"python\"></a>\n",
    "\n",
    "[Python](https://www.python.org) ist eine sehr einfach zu erlernende Programmiersprache und für den Einstieg in die Welt der Pragrammierung ideal geeignet. Trotz ihrer Einfachheit bietet diese Sprache auch die Möglichkeit, komplexe Programme für vielfältige Anwendungsgebiete zu schreiben.<br>\n",
    "\n",
    "Um Python Programme auszuführen, muss auf dem Rechner ein [**Python-Interpreter**](https://www.python.org/downloads/) (*Übersetzer*) installiert werden. Dieser wird unsere Programme in *Maschinensprache (Bit-Wörter)* übersetzen, sodass unsere Anweisungen und Befehle auf dem Rechner ausgeführt werden können.\n",
    "\n",
    "<img src=\"interpreter.PNG\"/>\n",
    "\n",
    "Wichtige Vorteile von Python:\n",
    "- Python verügt über eine einfache und eindeutige [Syntax](#syntax): <br> Die Schreibweise von Python beschränkt sich auf einfache, klare Anweisungen und häufig auf einen einzigen möglichen Lösungsweg. Dieser prägt sich schnell ein und wird dem Entwickler vertraut.\n",
    "- Klare Strukturen: Python verlangt vom Entwickler, in einer gut lesbaren Struktur zu schreiben. Die Anordnung der Programmzeilen ergibt zugleich die logische Struktur des Programms.\n",
    "\n",
    "Python Programme können in einem Beliebigen Text-Editor geschrieben werden und haben die Dateiendung `.py`. Für die Programmierung wurden spezifische Text-Editoren entwickelt, die dem Entwickler die Arbeit leichter machen sollen. Ein solcher Text-Editor nennen wir **Entwicklungsumgebung**. In diesem Kurs verwenden wir die Entwicklungsumgebung [Visual Studio Code](https://code.visualstudio.com).\n",
    "\n",
    "In diesem Kurs schreiben wir oft nicht einzelne Python Programme (einzelne Dateien mit der Dateiendung `.py`), wir arbeiten stattdessen mit *Jupyter Notebooks* (Dateiendung `.ipynb`). Diese ermöglichen uns die Vereinigung von erzählendem Text und ausführbaren Programmier-Zellen. Zudem können wir einzelne **Code-Blöcke** individuell ausführen lassen. Weitere Informationen zu *Jupyter Notebooks* findest du im Notebook *Jupyter Notebooks*. "
   ]
  },
  {
   "cell_type": "markdown",
   "metadata": {},
   "source": [
    "# 2. Erste Schritte <a class=\"anchor\" id=\"first-steps\"></a>\n",
    "\n",
    "Bevor wir uns mit der Syntax und den Datentypen von Python vertraut machen, befassen wir uns mit der `input()` und der `print()` Funktion.\n",
    "Diese beiden Funktionen ermöglichen **Ein- und Ausgabe-Funktionalitäten**, sodass ein Programm mit der *Aussenwelt* kommunizieren kann.<br>\n",
    "Beide Funktionen sind fundamentale Bestandteile der Programmiersprache, d.h. der Python **Interpreter** versteht die Befehle `input()` und `print()`.<br>\n",
    "`print()` und `input()` sind sogenannte [**eingebaute Funktionen**](#eingebaute-funktionen)."
   ]
  },
  {
   "cell_type": "markdown",
   "metadata": {},
   "source": [
    "## 2.1 print() und input() <a class=\"anchor\" id=\"print-input\"></a>\n",
    "\n",
    "### Ausgabe mit print()\n",
    "\n",
    "In Python wird eine **Ausgabe** mit der Funktion `print()` erzeugt. Sie schreibt den Ausdruck in den einfachen Klammern `()` in die Kommandozeile.\n",
    "Der Ausdruck kann ein **beliebiger [Datentyp](#datentypen)** sein."
   ]
  },
  {
   "cell_type": "code",
   "execution_count": 47,
   "metadata": {},
   "outputs": [
    {
     "name": "stdout",
     "output_type": "stream",
     "text": [
      "Hallo Welt\n"
     ]
    }
   ],
   "source": [
    "# Eine Zeichenkette muss in einfachen oder doppelten Anführungszeichen geschrieben werden\n",
    "print(\"Hallo Welt\")"
   ]
  },
  {
   "cell_type": "markdown",
   "metadata": {},
   "source": [
    "Wenn wir einen Python-Ausdruck (Berechnung oder Variable) an die `print()` Funktion übergeben, wird der Ausdruck zuerst evaliert (berechnet), und der resultierende Wert wird anschliessend in die Kommandozeile geschrieben."
   ]
  },
  {
   "cell_type": "code",
   "execution_count": 48,
   "metadata": {},
   "outputs": [
    {
     "name": "stdout",
     "output_type": "stream",
     "text": [
      "13\n"
     ]
    }
   ],
   "source": [
    "# Wir können auch Python Anweisungen als Ausdruck an die 'print'-Funktion übergeben.\n",
    "print(5 + 8)"
   ]
  },
  {
   "cell_type": "markdown",
   "metadata": {},
   "source": [
    "Die Funktion kann auch mehrere Ausdrücke hintereinander in die Kommandozeile schreiben. Mehere Ausdrücke können mit einem Komma getrennt werden.\n",
    "Wenn mehere Ausdrücke mit dem Komma getrennt werden, wird automatisch ein Leerzeichen zwischen den Ausdrücken eingefügt."
   ]
  },
  {
   "cell_type": "code",
   "execution_count": 49,
   "metadata": {},
   "outputs": [
    {
     "name": "stdout",
     "output_type": "stream",
     "text": [
      "Hallo Welt 15\n"
     ]
    }
   ],
   "source": [
    "print(\"Hallo\", \"Welt\", 15)"
   ]
  },
  {
   "cell_type": "markdown",
   "metadata": {},
   "source": [
    "Im Verlauf von diesem Notebook wirst du noch weitere Besipiele der `print()` Funktion sehen."
   ]
  },
  {
   "cell_type": "markdown",
   "metadata": {},
   "source": [
    "### Eingabe mit input()\n",
    "\n",
    "In Python wird eine **Eingabe** mit der Funktion `input()` erzeugt. Sobald die Funktion ausgeführt wird, wartet das Programm, bis der Benutzer etwas eingegeben hat. Der resultierende Wert der `input()`-Funktion ist eine [Zeichenkette](#zeichenketten)."
   ]
  },
  {
   "cell_type": "code",
   "execution_count": 50,
   "metadata": {},
   "outputs": [
    {
     "name": "stdout",
     "output_type": "stream",
     "text": [
      "text\n"
     ]
    }
   ],
   "source": [
    "# Wir speichern die Eingabe vom Benutzer in der Variable mit dem Namen eingegebenerWert\n",
    "eingegebenerWert = input()\n",
    "print(eingegebenerWert)"
   ]
  },
  {
   "cell_type": "markdown",
   "metadata": {},
   "source": [
    "Wenn du für die Eingabe vom Benutzer auch noch eine Anweisung geben willst, kannst du dies als Parameter an der Funktion `input()` übergeben. Parameter schreiben wir wie bei der `print()` Funktion in die einfachen Klammern `()`."
   ]
  },
  {
   "cell_type": "code",
   "execution_count": 51,
   "metadata": {},
   "outputs": [
    {
     "name": "stdout",
     "output_type": "stream",
     "text": [
      "Mauro\n"
     ]
    }
   ],
   "source": [
    "# Wir speichern die Eingabe vom Benutzer in der Variable mit dem Namen name\n",
    "name = input(\"Wie lautet dein Name?\")\n",
    "print(name)"
   ]
  },
  {
   "cell_type": "markdown",
   "metadata": {},
   "source": [
    "Im Verlauf dieses Noteboooks wirst du weitere Beispiele der Funktion `input()` sehen. Fürs erste reicht es, wenn du verstehst, wie du in einem Python Programm eine **Eingabe** und eine **Ausgabe** erzeugen kannst."
   ]
  },
  {
   "cell_type": "markdown",
   "metadata": {},
   "source": [
    "# 3. Syntax <a class=\"anchor\" id=\"syntax\"></a>\n",
    "\n",
    "Als Syntax bezeichnen wir die *Schreibweise* von einer Programmiersprache. Die Syntax gibt uns vor, welche Ausdrücke wir in welchem Kontext verwenden können. Wir müssen die Syntax strikt befolgen, wenn wir wollen, dass der Python-**Interpreter** unser Programm verstehen kann."
   ]
  },
  {
   "cell_type": "markdown",
   "metadata": {},
   "source": [
    "## 3.1 Variablen und Operatoren <a class=\"anchor\" id=\"var-und-operatoren\"></a>\n",
    "\n",
    "Wenn wir gewisse Werte mehrere Male in unserem Programm verwenden wollen, ergibt es Sinn, wenn wir diese Werte Speichern können. Dazu dienen **Variablen**. <br>\n",
    "**Operatoren**, wie +, -, /, \\*, dienen zur Ausführung von Berechnungen.\n",
    "\n",
    "Die Namen von **Variablen** kannst du frei wählen. Es macht jedoch sinn, wenn du jeweils einen Namen wählst, der die Variable direkt beschreibt.\n",
    "\n",
    "### Variablen zuweisen\n",
    "\n",
    "Wenn wir einen Wert in einer Variable speichern wollen verwenden wir das Gleichheitszeichen. Auf der linken Seite des Gleichheitszeichens befindet sich der Name der Variable, und auf der rechten Seite der Wert, der in dieser Variable gespeichert wird."
   ]
  },
  {
   "cell_type": "code",
   "execution_count": 52,
   "metadata": {},
   "outputs": [],
   "source": [
    "# Eine einfache Zuweisung\n",
    "# Der Name der Variable ist alter; 27 der Wert der in der Variable gespeichert wird\n",
    "alter = 27"
   ]
  },
  {
   "cell_type": "markdown",
   "metadata": {},
   "source": [
    "Im folgenden Code-Beispiel wird eine einfache Berechnung mithilfe eines **Operators** (*+ Zeichen*) durchgeführt. Das Ergebnis der Berechnung wird mit dem Gleichheitszeichen einer **Variablen** zugewiesen. Es erfolgt eine Ausgabe."
   ]
  },
  {
   "cell_type": "code",
   "execution_count": 53,
   "metadata": {},
   "outputs": [
    {
     "name": "stdout",
     "output_type": "stream",
     "text": [
      "Die Aufgabe: 5 + 3\n",
      "Das Ergebnis: 8\n"
     ]
    }
   ],
   "source": [
    "# Werte\n",
    "a = 5\n",
    "b = 3\n",
    "\n",
    "# Berechnung\n",
    "c = a + b\n",
    "\n",
    "# Ausgabe\n",
    "print(\"Die Aufgabe:\", a, \"+\", b)\n",
    "print(\"Das Ergebnis:\", c)"
   ]
  },
  {
   "cell_type": "markdown",
   "metadata": {},
   "source": [
    "*Hinweis*: Wie du bereits erkennen kannst, habe ich hier den *Komma*-Seperator für die **Ausgabe** verwendet. Das habe ich so gemacht, weil ich wollte, dass der Wert von a resp. b als solche in die Kommandozeile geschrieben werden. Überlege dir an dieser Stelle, warum im nächsten Beispiel `Die Aufgabe: 8` erscheint, und nicht `Die Aufgabe 5 + 3`. Wenn du den Unterschied nicht verstehst, solltest du dich melden. :)"
   ]
  },
  {
   "cell_type": "code",
   "execution_count": 54,
   "metadata": {},
   "outputs": [
    {
     "name": "stdout",
     "output_type": "stream",
     "text": [
      "Die Aufgabe: 8\n"
     ]
    }
   ],
   "source": [
    "print(\"Die Aufgabe:\", a + b)"
   ]
  },
  {
   "cell_type": "markdown",
   "metadata": {},
   "source": [
    "# 4. Datentypen <a class=\"anchor\" id=\"datentypen\"></a>\n",
    "\n",
    "Beschäftigen wir uns noch einmal mit den Eigenschaften und Vorteilen der verschiedenen Datentypen. Es werden Operationen, Funktionen und Operatoren für die jeweiligen Datentypen vorgestellt.\n",
    "Wenn du einen Wert in einer Variable speicherst, erkennt Python direkt, welcher Datentyp dabei verwendet werden soll.\n",
    "\n",
    "*Übrigens*: Mit der Funktion `type()` kannst du jeweils überprüfen, welcher Datentyp in einer Variable gespeichert ist."
   ]
  },
  {
   "cell_type": "markdown",
   "metadata": {},
   "source": [
    "## 4.1 Zahlen <a class=\"anchor\" id=\"zahlen\"></a>\n",
    "\n",
    "In diesem Abschnitt befassen wir uns kurz mit ganzen Zahlen und Zahlen mit Nachkommastellen. Es werden auch zwei **Operatoren** eingeführt, die mit Zahlen angewendet werden können.\n",
    "\n",
    "### Ganze Zahlen\n",
    "\n",
    "Als Datentyp für ganze Zahlen dient `int` (vom englisch *integer* für ganze Zahl).\n",
    "*Integers* werden automatisch erstellt, wenn eine Ganze Zahl einer Variable zugeweisen wird.\n",
    "Mit *ganzen Zahlen* können wir alle üblichen Operationen durchführen."
   ]
  },
  {
   "cell_type": "code",
   "execution_count": 55,
   "metadata": {},
   "outputs": [
    {
     "name": "stdout",
     "output_type": "stream",
     "text": [
      "<class 'int'>\n",
      "Das Resultat der Multiplikation ist: 108\n",
      "Der Datentyp der Multiplikation ist: <class 'int'>\n",
      "Das Resultat der Division ist: 6.75\n",
      "Der Datentyp der Division ist: <class 'float'>\n"
     ]
    }
   ],
   "source": [
    "# In der Variable 'alter' wird eine ganze Zahle gespeichert\n",
    "alter = 27\n",
    "print(type(alter))\n",
    "\n",
    "# In der Variable 'multiplikator' wird die Zahl 4 gespeichert\n",
    "multiplikator = 4\n",
    "\n",
    "# eine einfache Berechnung (Der Wert wird in der Variable 'resultat' gespeichert)\n",
    "resultat = alter * multiplikator\n",
    "print(\"Das Resultat der Multiplikation ist:\", resultat)\n",
    "print(\"Der Datentyp der Multiplikation ist:\", type(resultat))\n",
    "\n",
    "# Diese Division wird eine Zahl mit Nachkommastellen erzeugen, deshalb wird sie nicht mehr vom typ 'int' sein\n",
    "resultat = alter / multiplikator\n",
    "print(\"Das Resultat der Division ist:\", resultat)\n",
    "print(\"Der Datentyp der Division ist:\", type(resultat))"
   ]
  },
  {
   "cell_type": "markdown",
   "metadata": {},
   "source": [
    "#### Modulo operator\n",
    "\n",
    "Wenn wir nun die Division $27 / 4$ durchführen erhalten wir $6.75$, also keine ganze Zahl. \n",
    "Anders ausgedrückt kann dieses Ergebnis auch $6 R 3$ lauten. Das heisst, bei der Division $27 / 4$ erhalten wir die ganze Zahl $6$ und den Rest $3$.\n",
    "Der **Modulo Operator** (Syntax %) ermöglicht uns, den Wert des Rests zu erhalten. "
   ]
  },
  {
   "cell_type": "code",
   "execution_count": 56,
   "metadata": {},
   "outputs": [
    {
     "name": "stdout",
     "output_type": "stream",
     "text": [
      "Modulo liefert: 3\n"
     ]
    }
   ],
   "source": [
    "print(\"Modulo liefert:\", alter % multiplikator)"
   ]
  },
  {
   "cell_type": "markdown",
   "metadata": {},
   "source": [
    "Überlege dir an dieser Stelle wie du mit dem **Modulo Operator** herausfinden kannst, ob eine Zahl ein Teiler von einer anderen Zahl ist. Gerne kannst du hier eine Code-Zelle einfügen, und deine Überlegungen ausprobieren.\n",
    "\n",
    "*Hinweis*: Versuche zwei Variablen zu erstellen (zBsp. `a` und `b`), in denen du jeweils eine ganze Zahl speicherst. Versuche mit dem Modulo Operator herauszufinden, ob `b` ein Teiler von `a` ist."
   ]
  },
  {
   "cell_type": "code",
   "execution_count": 57,
   "metadata": {},
   "outputs": [],
   "source": [
    "# Code-Zelle "
   ]
  },
  {
   "cell_type": "markdown",
   "metadata": {},
   "source": [
    "### Zahlen mit Nachkommastellen\n",
    "\n",
    "Der Datentyp für Zahlen mit Nachkommastellen heisst `float`. Diese sogenannten *Fliesskommazahlen* werden mithilfe des Dezimalpunkts geschrieben.\n",
    "Genau wie bei den ganzen Zahlen können wir die bekannten Operatoren für diesen Datentyp verwenden."
   ]
  },
  {
   "cell_type": "code",
   "execution_count": 58,
   "metadata": {},
   "outputs": [
    {
     "name": "stdout",
     "output_type": "stream",
     "text": [
      "<class 'float'>\n"
     ]
    }
   ],
   "source": [
    "kommazahl = 7.5\n",
    "print(type(kommazahl))"
   ]
  },
  {
   "cell_type": "markdown",
   "metadata": {},
   "source": [
    "#### \\*\\* Operator\n",
    "\n",
    "Für alle Zahlen existiert der Potenz-Operator \\*\\*. Mit diesem Operator können wir Potenzen berechnen."
   ]
  },
  {
   "cell_type": "code",
   "execution_count": 59,
   "metadata": {},
   "outputs": [
    {
     "name": "stdout",
     "output_type": "stream",
     "text": [
      "5 hoch 3 = 125\n",
      "5.2 hoch 3 = 140.608\n",
      "-5.2 hoch 3 = -140.608\n",
      "5.2 hoch 3.2 = 525.7904646699526\n"
     ]
    }
   ],
   "source": [
    "# Der Variablen z wird nacheinander das Ergebnis verschiedenen Exponentialrechnungen zugewiesen. \n",
    "# Anschliessend wird ihr jeweils aktueller Wert mit einem Kommentar ausgegeben\n",
    "z = 5 ** 3\n",
    "print(\"5 hoch 3 =\", z)\n",
    "z = 5.2 ** 3\n",
    "print(\"5.2 hoch 3 =\", z)\n",
    "z = -5.2 ** 3\n",
    "print(\"-5.2 hoch 3 =\", z)\n",
    "z = 5.2 ** 3.8\n",
    "print(\"5.2 hoch 3.2 =\", z)"
   ]
  },
  {
   "cell_type": "markdown",
   "metadata": {},
   "source": [
    "## 4.2 Zeichenketten <a class=\"anchor\" id=\"zeichenketten\"></a>\n",
    "\n",
    "Zeichenkettern sind **Sequenzen** von einzelnen Zeichen - also Texte. Auch andere Datentypen gehören zu den **Sequenzen** (beispielsweise [Listen](#listen)). Anhand von Zeichenketten werden wir auch eine kurze Einführung in die **Sequenzen** machen.\n",
    "\n",
    "Zeichenketten sind Objekte des Datentyps `str`. Strings bestehen aus mehreren Zeichen oder Wörtern. Sie werden gekennzeichnet, indem man sie in einfache, doppelte oder dreimal doppelte Anführungszeichen setzt."
   ]
  },
  {
   "cell_type": "code",
   "execution_count": 60,
   "metadata": {},
   "outputs": [
    {
     "name": "stdout",
     "output_type": "stream",
     "text": [
      "Bitte geben Sie einen Text ein\n",
      "t1: Hallo Welt\n",
      "t2: Auch das ist eine Zeichenkette\n",
      "t3: Diese Zeichenkette\n",
      "        steht in\n",
      "        mehreren Zeilen\n",
      "t4: Hier sind \"doppelte Hochkommata\" gespeichert\n",
      "t5: text\n",
      "Typ: <class 'str'>\n"
     ]
    }
   ],
   "source": [
    "t1 = \"Hallo Welt\"\n",
    "t2 = 'Auch das ist eine Zeichenkette'\n",
    "t3 = \"\"\"Diese Zeichenkette\n",
    "        steht in\n",
    "        mehreren Zeilen\"\"\"\n",
    "t4 = 'Hier sind \"doppelte Hochkommata\" gespeichert'\n",
    "\n",
    "print(\"Bitte geben Sie einen Text ein\")\n",
    "t5 = input()\n",
    "\n",
    "print(\"t1:\", t1)\n",
    "print(\"t2:\", t2)\n",
    "print(\"t3:\", t3)\n",
    "print(\"t4:\", t4)\n",
    "print(\"t5:\", t5)\n",
    "\n",
    "print(\"Typ:\", type(t1))"
   ]
  },
  {
   "cell_type": "markdown",
   "metadata": {},
   "source": [
    "Die Zeichnkette `t4` verdeutlicht den Vorteil, den das Vorhandensein mehrerer Alternativen bietet: Die doppelten Hochkommata sind hier Bestandteil des Texts und werden auch ausgegeben.\n",
    "\n",
    "### Operatoren <a class=\"anchor\" id=\"operatoren-sequenzen\"></a>\n",
    "\n",
    "Die Operatoren $+$ und $*$ dienen zu Verkettung mehrerer **Sequenzen** bzw. zur Vervielfachnung einer **Sequenz**. Mithilfe des Operators `in` kannst du feststellen, ob ein bestimmtes Element in der Sequenz enthalten ist. Zudem kannst du mit dem Operator `not in` feststellen, ob das Element nicht in einer Sequenz enthalten ist.\n",
    "\n",
    "**Achtung**: Der $+$ Operator funktioniert nur dann, wenn beide Elemente vom Typ `str` sind. Der $*$ Operator hingegebn multipliziert eine Zeichnkette mit einer Zahl."
   ]
  },
  {
   "cell_type": "code",
   "execution_count": 61,
   "metadata": {},
   "outputs": [
    {
     "name": "stdout",
     "output_type": "stream",
     "text": [
      "Teil 1, Teil 2\n",
      "***-oooo--oooo--oooo-***\n",
      "Text: Robinson Crusoe\n",
      "b: ist enthalten\n",
      "p: ist nicht enthalten\n"
     ]
    }
   ],
   "source": [
    "# Operatoren + und *\n",
    "t1 = \"Teil 1\"\n",
    "t2 = \"Teil 2\"\n",
    "tgesamt = t1 + \", \" + t2\n",
    "\n",
    "t3 = \"-oooo-\"\n",
    "t4 = \"***\"\n",
    "# 1-mal t4 + 3-mal t3 + 1-mal t4\n",
    "tlinie = t4 + t3 * 3 + t4\n",
    "\n",
    "print(tgesamt)\n",
    "print(tlinie)\n",
    "\n",
    "# Operator in\n",
    "tname = \"Robinson Crusoe\"\n",
    "print(\"Text:\", tname)\n",
    "\n",
    "if \"b\" in tname:\n",
    "    print(\"b: ist enthalten\")\n",
    "\n",
    "if \"p\" not in tname:\n",
    "    print(\"p: ist nicht enthalten\")"
   ]
  },
  {
   "cell_type": "markdown",
   "metadata": {},
   "source": [
    "### Operationen auf Sequenzen\n",
    "\n",
    "#### Slices und Index\n",
    "\n",
    "Sequenzen sind eigentlich eine Anweinanderkettung von Elementen. Das ermöglicht uns, einzelne Elemente in der Kette abzufragen. Alle Elemente innerhalb der Sequenz werden dabei **nummeriert**. Diese **Nummerierung** beginnt bei der Zahl $0$. Die **Nummer** von einem Element innerhalb der Kette bezeichnen wir als **Index**. Wenn wir ein einzelnes Element in der Zeichenkette abfragen wollen, müssen wir dies mit den eckigen Klammern (`[]`) machen. In die ekcigen Klammern schreiben wir jeweils den **Index** vom Element.\n",
    "\n",
    "Ein Beispiel:"
   ]
  },
  {
   "cell_type": "code",
   "execution_count": 62,
   "metadata": {},
   "outputs": [
    {
     "name": "stdout",
     "output_type": "stream",
     "text": [
      "Erstes Element R\n",
      "Fünftes Element n\n"
     ]
    }
   ],
   "source": [
    "# Eine Zeichenkette wird gespeicher\n",
    "tname = \"Robinson Crusoe\"\n",
    "\n",
    "# Welches Element liegt an erster Stelle?\n",
    "print(\"Erstes Element\", tname[0])\n",
    "\n",
    "# Das füfnfte Element hat den Index 4, da die Nummerierung bei 0 beginnt\n",
    "print(\"Fünftes Element\", tname[4])"
   ]
  },
  {
   "cell_type": "markdown",
   "metadata": {},
   "source": [
    "Teilbereiche von Sequenzen werden als *Slices* bezeichnet. Der Einsatz von Slices wird am Beispiel einer Zeichenkette verdeutlicht. Auf die gleiche Art und weise sind *Slices* auch auf andere Sequenz-Typen (wie Listen) anwendbar.\n",
    "\n",
    "Das `slicing` funktioniert mit der gleichen Syntax wie die Abfrage von einem einzelnen Element (mit eckigen Klammern `[]`). Allerdings gilt: Wir müssen den Startwert und der Endwert des `slices` (Teilbereichs) definieren. Diese beiden Werte werden durch einen Doppelpunkt getrennt.\n",
    "\n",
    "```python\n",
    "zeichenkette[startwert:endwert]\n",
    "```\n",
    "\n",
    "Dabei gilt: \n",
    "\n",
    "**Startwert**: Erster Index der zum Slice gehört<br>\n",
    "**Endwert**: Erster Index der **NICHT** mehr zum Slice gehört.\n",
    "\n",
    "Also:\n",
    "\n",
    "```python\n",
    "zeichenkette[1:4]\n",
    "```\n",
    "\n",
    "wird uns alle Elemente an den Indizes 1, 2, 3 zurückgeben.\n",
    "\n",
    "Aufgepasst: Wenn du **keinen** Startwert bzw. **keinen** Endwert definierst, werden **alle** Elemente nach dem Startwert (wenn kein Endwert angegeben ist), beziehungsweise **alle** Elemente vor dem Endwert (wenn kein Startwert angegeben ist) im *Slice* enthalten sein.\n",
    "\n",
    "Ein Beispiel:"
   ]
  },
  {
   "cell_type": "code",
   "execution_count": 63,
   "metadata": {},
   "outputs": [
    {
     "name": "stdout",
     "output_type": "stream",
     "text": [
      "Text: Robinson Crusoe\n",
      "[5:8]: son\n",
      "[:8]: Robinson\n",
      "[9:]: Crusoe\n",
      "[9]: C\n"
     ]
    }
   ],
   "source": [
    "# Beispiel-Sequenz, hier Zeichenkette\n",
    "tname = \"Robinson Crusoe\"\n",
    "print(\"Text:\", tname)\n",
    "\n",
    "# Teilbereiche, Elemente\n",
    "ts = tname[5:8]\n",
    "print(\"[5:8]:\", ts)\n",
    "ts = tname[:8]\n",
    "print(\"[:8]:\", ts)\n",
    "ts = tname[9:]\n",
    "print(\"[9:]:\", ts)\n",
    "ts = tname[9]\n",
    "print(\"[9]:\", ts)"
   ]
  },
  {
   "cell_type": "markdown",
   "metadata": {},
   "source": [
    "### Länge der Sequenz\n",
    "\n",
    "Die eingebaute Funktion `len()` ermittelt die Anzahl der Elemente einer Sequenz. Im Fall einer Zeichenkette spricht man hierbei auch von der Länge der Zeichenkette.\n",
    "\n",
    "**Syntax**: `len(sequenz)`"
   ]
  },
  {
   "cell_type": "code",
   "execution_count": 64,
   "metadata": {},
   "outputs": [
    {
     "name": "stdout",
     "output_type": "stream",
     "text": [
      "15\n"
     ]
    }
   ],
   "source": [
    "tname = \"Robinson Crusoe\"\n",
    "print(len(tname))"
   ]
  },
  {
   "cell_type": "markdown",
   "metadata": {},
   "source": [
    "### Umwandlung einer Zeichenkette in eine Zahl\n",
    "\n",
    "Enthält eine Zeichenkette eine Zahl, etwa eine vom Benutzer eingegebene Zeichenkette, muss diese Zeichenkette zunächst Konvertiert werden.\n",
    "Zur Umwandlung in eine ganze Zahl oder in eine Zahl mit Nachkommastellen dienen die beiden Funktionen `int()` bzw. `float()`. Anschliessend kann mit dieser Zahl gerechnet werden.\n"
   ]
  },
  {
   "cell_type": "code",
   "execution_count": 65,
   "metadata": {},
   "outputs": [
    {
     "name": "stdout",
     "output_type": "stream",
     "text": [
      "15.315.3\n",
      "30.6\n",
      "1717\n",
      "34\n"
     ]
    }
   ],
   "source": [
    "# Erste Zeichenkette\n",
    "x = \"15.3\"\n",
    "\n",
    "# Mit dieser Operation werden wir die Zeichnkette einfach Vervielfachen\n",
    "ergebnis = x * 2\n",
    "print(ergebnis)\n",
    "\n",
    "# Wenn wir mit der Zahl rechnen wollen, muss Sie zuerst in einen 'float' Umgewandelt werden.\n",
    "x = float(x)\n",
    "ergebnis = x * 2\n",
    "print(ergebnis)\n",
    "\n",
    "# Zweite Zeichenkette\n",
    "x = \"17\"\n",
    "\n",
    "ergebnis = x * 2\n",
    "print(ergebnis)\n",
    "\n",
    "x = int(x)\n",
    "ergebnis = x * 2\n",
    "print(ergebnis)"
   ]
  },
  {
   "cell_type": "markdown",
   "metadata": {},
   "source": [
    "Stelle sicher, das du die einzelnen Code-Zellen verstehst. Zögere nicht und erstelle selber neue Code-Zellen wo du spielerisch die Funktionalitäten selber ausprobieren kannst."
   ]
  },
  {
   "cell_type": "markdown",
   "metadata": {},
   "source": [
    "## 4.3 Listen <a class=\"anchor\" id=\"listen\"></a>\n",
    "\n",
    "Eine Liste ist eine **Sequenz** von Objekten in ihrere allgemeinsten Form. Sie kann Elemente von unterschiedlichen Datentypen enthalten. Eine Liste bietet vielfältige Möglichkeiten, u.a. die Funktionalitäten von ein- und mehrdimensionalen Feldern. Eine Liste kann an den eckigen Klammern `[]` erkennt werden. In diese Klammern können die Elemente der Liste Komma-getrennt angegeben werden.\n",
    "\n",
    "Wenn du einzelne Elemente der Liste Abfragen willst musst du ebenfalls die eckigen Klammern `[]` verwenden. (Die Nummerierung beginnt auch hier bei 0!)\n",
    "\n",
    "Beispiele:"
   ]
  },
  {
   "cell_type": "code",
   "execution_count": 66,
   "metadata": {},
   "outputs": [
    {
     "name": "stdout",
     "output_type": "stream",
     "text": [
      "[3, 6, 12.5, -8, 5.5]\n",
      "3\n",
      "12.5\n",
      "['Bern', 'Zürich', 'Olten']\n",
      "Anzahl: 3\n",
      "Diese wilde Liste hat unterschiedliche Datentypen: [3, 7, 'Hallo', 'Welt', ['Liste', 'in', 'Liste']]\n"
     ]
    }
   ],
   "source": [
    "# Liste von Zahlen\n",
    "z = [3, 6, 12.5, -8, 5.5]\n",
    "print(z)          # gesamte Liste\n",
    "print(z[0])       # Das erste Element\n",
    "print(z[2])       # Das dritte Element\n",
    "\n",
    "# Liste von Zeichenketten\n",
    "s = [\"Bern\", \"Zürich\", \"Olten\"]\n",
    "print(s)\n",
    "\n",
    "# Anzahl Elemente (auch hier verwenden wir die Funktion 'len()')\n",
    "print(\"Anzahl:\", len(s))\n",
    "\n",
    "# Liste mit unterschiedlichen Datentypen\n",
    "wilde_liste = [3, 7, \"Hallo\", \"Welt\", [\"Liste\", \"in\", \"Liste\"]]\n",
    "print(\"Diese wilde Liste hat unterschiedliche Datentypen:\", wilde_liste)"
   ]
  },
  {
   "cell_type": "markdown",
   "metadata": {},
   "source": [
    "Die Zeile `z[0]` gibt und den Wert vom ersten Element in der Liste zurück. Wie im Abschnitt [Operatoren](#operatoren-sequenzen) zu Sequenzen beschrieben, können die gleichen Operatoren auch für Listen benutzt werden.\n",
    "\n",
    "**Neu bei Listen**:<br>\n",
    "Im Gegensatz zu Zeichenketten können wir bei Listen auch einzelne Elemente **verändern**.\n",
    "Wenn wir einzelne Elemente in der Liste verändern wollen, können wir das mit derselben Sytax (`[]`). \n",
    "Allerdings gilt: wenn wir einen neuen Wert einem Element zuweisen wollen, muss das Element auf der linken Seite des Gleichheitszeichens sein!\n",
    "\n",
    "Hier ein Beispiel:"
   ]
  },
  {
   "cell_type": "code",
   "execution_count": 67,
   "metadata": {},
   "outputs": [
    {
     "name": "stdout",
     "output_type": "stream",
     "text": [
      "Städte alt: ['Bern', 'Zürich', 'Olten']\n",
      "A_Stadt: Zürich\n",
      "Städte neu: ['Bern', 'Lausanne', 'Olten']\n"
     ]
    }
   ],
   "source": [
    "staedte = [\"Bern\", \"Zürich\", \"Olten\"]\n",
    "print(\"Städte alt:\", staedte)\n",
    "\n",
    "# Der Wert des 2-ten Elements (Index = 1) abfragen und in einer Variable speichern\n",
    "a_stadt = staedte[1]\n",
    "print(\"A_Stadt:\", a_stadt)\n",
    "\n",
    "# Einen neue Wert am selben Ort abspeichern:\n",
    "# Da wir den Wert eines Elements innerhalb der Liste verändern, muss staedte[1] auf der linken Seite erscheinen\n",
    "staedte[1] = 'Lausanne'\n",
    "print(\"Städte neu:\", staedte)"
   ]
  },
  {
   "cell_type": "markdown",
   "metadata": {},
   "source": [
    "### Slices\n",
    "\n",
    "Auch bei Listen können wir `Slices` (Teilbereiche) verwenden.\n",
    "\n",
    "Beispiel:"
   ]
  },
  {
   "cell_type": "code",
   "execution_count": 68,
   "metadata": {},
   "outputs": [
    {
     "name": "stdout",
     "output_type": "stream",
     "text": [
      "Indizes 1, 2, 3: ['Zürich', 'Olten', 'Solothurn']\n",
      "Indizes 0, 1, 2: ['Bern', 'Zürich', 'Olten']\n",
      "Indizes 3, 4, 5: ['Solothurn', 'Genf', 'Lausanne']\n"
     ]
    }
   ],
   "source": [
    "staedte = [\"Bern\", \"Zürich\", \"Olten\", \"Solothurn\", \"Genf\", \"Lausanne\"]\n",
    "\n",
    "# Wenn wir alle elemente vom 2-ten bis und mit zum 4-ten element abfragen wollen, müssen wir diese Werte als indizes angeben\n",
    "print(\"Indizes 1, 2, 3:\", staedte[1:4])\n",
    "\n",
    "# Wenn wir keinen Startwert angeben, werden alle Element aufgezählt bis zum 'Endwert'!\n",
    "print(\"Indizes 0, 1, 2:\", staedte[:3])\n",
    "\n",
    "# Analog können wir auch keinen Endwert angeben, dann gehören alle Indizes nach dm Startwert zum Slice\n",
    "print(\"Indizes 3, 4, 5:\", staedte[3:])"
   ]
  },
  {
   "cell_type": "markdown",
   "metadata": {},
   "source": [
    "**Speziell bei Listen**: Wir können auch `slices` (Sublisten) innerhalb von Listen verändern."
   ]
  },
  {
   "cell_type": "code",
   "execution_count": 69,
   "metadata": {},
   "outputs": [
    {
     "name": "stdout",
     "output_type": "stream",
     "text": [
      "Original:\n",
      "['Paris', 'Lyon', 'Marseille', 'Bordeaux']\n",
      "Teil ersetzt:\n",
      "['Paris', 'Nancy', 'Metz', 'Gap', 'Bordeaux']\n"
     ]
    }
   ],
   "source": [
    "# Originalliste\n",
    "fr = [\"Paris\",\"Lyon\",\"Marseille\",\"Bordeaux\"]\n",
    "print(\"Original:\")\n",
    "print(fr)\n",
    "\n",
    "# Ersetzen eines Teilbereiches durch eine Liste\n",
    "fr[1:3] = [\"Nancy\",\"Metz\",\"Gap\"]\n",
    "print(\"Teil ersetzt:\")\n",
    "print(fr)"
   ]
  },
  {
   "cell_type": "markdown",
   "metadata": {},
   "source": [
    "### Elemente löschen\n",
    "\n",
    "Willst du Elemente oder Blöcke innerhalb einer Liste löschen kannst du das Schlüsselwort `del` (delete) verwenden.\n",
    "Beispiel:"
   ]
  },
  {
   "cell_type": "code",
   "execution_count": 70,
   "metadata": {},
   "outputs": [
    {
     "name": "stdout",
     "output_type": "stream",
     "text": [
      "Original: ['Paris', 'Lyon', 'Marseille', 'Bordeaux']\n",
      "Element gelöscht: ['Paris', 'Lyon', 'Bordeaux']\n",
      "Block gelöscht: ['Paris']\n"
     ]
    }
   ],
   "source": [
    "fr = [\"Paris\",\"Lyon\",\"Marseille\",\"Bordeaux\"]\n",
    "print(\"Original:\", fr)\n",
    "\n",
    "# Marseille wird gelöscht\n",
    "del fr[2]\n",
    "print(\"Element gelöscht:\", fr)\n",
    "\n",
    "# Ein Block wird gelöscht (Alle Elemente mit einem grösseren Index als 1)\n",
    "del fr[1:]\n",
    "print(\"Block gelöscht:\", fr)"
   ]
  },
  {
   "cell_type": "markdown",
   "metadata": {},
   "source": [
    "### Funktionen für Listen\n",
    "\n",
    "Listen beinhalten einige nützliche Funktionen. Wir wollen am folgenden Beispiel einige Funktionen kurz gemeinsam anschauen."
   ]
  },
  {
   "cell_type": "code",
   "execution_count": 71,
   "metadata": {},
   "outputs": [
    {
     "name": "stdout",
     "output_type": "stream",
     "text": [
      "Original:\n",
      "['Paris', 'Lyon', 'Marseille']\n",
      "Nach Einsetzen:\n",
      "['Paris', 'Nantes', 'Lyon', 'Marseille']\n",
      "Nach Sortieren:\n",
      "['Lyon', 'Marseille', 'Nantes', 'Paris']\n",
      "Nach Umdrehen:\n",
      "['Paris', 'Nantes', 'Marseille', 'Lyon']\n",
      "Nach Entfernen:\n",
      "['Paris', 'Marseille', 'Lyon']\n",
      "Ein Element hinzu:\n",
      "['Paris', 'Marseille', 'Lyon', 'Paris']\n",
      "Anzahl Elemente Paris: 2\n",
      "Erste Position Paris: 0\n"
     ]
    }
   ],
   "source": [
    "# Originallste\n",
    "fr = [\"Paris\",\"Lyon\",\"Marseille\"]\n",
    "print(\"Original:\")\n",
    "print(fr)\n",
    "\n",
    "# Einsetzen eines Elements\n",
    "fr.insert(1,\"Nantes\")\n",
    "print(\"Nach Einsetzen:\")\n",
    "print(fr)\n",
    "\n",
    "# Sortieren der Elemente\n",
    "fr.sort()\n",
    "print(\"Nach Sortieren:\")\n",
    "print(fr)\n",
    "\n",
    "# Umdrehen der Liste\n",
    "fr.reverse()\n",
    "print(\"Nach Umdrehen:\")\n",
    "print(fr)\n",
    "\n",
    "# Entfernen eines Elements\n",
    "fr.remove(\"Nantes\")\n",
    "print(\"Nach Entfernen:\")\n",
    "print(fr)\n",
    "\n",
    "# Ein Element am Ende hinzu\n",
    "fr.append(\"Paris\")\n",
    "print(\"Ein Element hinzu:\")\n",
    "print(fr)\n",
    "\n",
    "# Anzahl bestimmter Elemente\n",
    "print(\"Anzahl Elemente Paris:\", fr.count(\"Paris\"))\n",
    "\n",
    "# Suchen bestimmter Elemente\n",
    "print(\"Erste Position Paris:\", fr.index(\"Paris\"))"
   ]
  },
  {
   "cell_type": "markdown",
   "metadata": {},
   "source": [
    "- `insert(index, Element)`\n",
    "\n",
    "Ein Element wird am angegebenen Index zur Liste hinzugefügt. Alle bisher in der Liste enthaltenen Element bleiben ebefalls in der Liste. Alle Elemente *hinter dem Index* werden nach dem `insert` um eine Stelle nach rechts verschoben.\n",
    "\n",
    "- `sort()`\n",
    "\n",
    "Die Liste wird sortiert. Falls es sich um eine Liste von Zeichenketten handelt, wird alphabetisch sortiert. Eine Liste von Zahlen wird nach Grösse sortiert.\n",
    "\n",
    "- `reverse()`\n",
    "\n",
    "Die Liste wird umgedreht.\n",
    "\n",
    "- `remove(Element)`\n",
    "\n",
    "Falls das Element innerhalb der Liste vorkommt, wird das erste vorkommende Element innerhalb der Liste gelöscht.\n",
    "\n",
    "- `append(Element)`\n",
    "\n",
    "Ein neues Element wird am Ende der Liste hinzugefügt.\n",
    "\n",
    "- `index(Element)` <a class=\"anchor\" id=\"index-listen\"></a>\n",
    "\n",
    "Die Position des Vorkommens eines bestimmten Elements (hier: `Paris`) wird mit der Funktion `index()` ermittelt. So erhalten wir die Nummerierung des Elements `Paris`.\n",
    "**Achtung**: Wenn das Element mehrmals in der Liste vorkommt, gibt uns die Funktion `index()` immer die **Nummerierung** vom **ersten Element** zurück."
   ]
  },
  {
   "cell_type": "markdown",
   "metadata": {},
   "source": [
    "## 4.4 Wahrheitswerte <a class=\"anchor\" id=\"booleans\"></a>\n",
    "\n",
    "Elemente und Ausdrücke (bsp. `3 + 5 > 6`) können wahr oder falsch sein. Diese Ausdrücke liefern eines der beiden Schlüsselwörter `True` (wahr) oder `False` (falsch). Dies sind die einzigen Objekte des Datentyps `bool`."
   ]
  },
  {
   "cell_type": "code",
   "execution_count": 72,
   "metadata": {},
   "outputs": [
    {
     "name": "stdout",
     "output_type": "stream",
     "text": [
      "Wahrheitswert: True\n",
      "Wahrheitswert: False\n"
     ]
    }
   ],
   "source": [
    "# True und False\n",
    "W = True\n",
    "print(\"Wahrheitswert:\", W)\n",
    "W = False\n",
    "print(\"Wahrheitswert:\", W)"
   ]
  },
  {
   "cell_type": "markdown",
   "metadata": {},
   "source": [
    "### Vergleichsoperatoren <a class=\"anchor\" id=\"vergleichsoperatoren\"></a>\n",
    "\n",
    "Besonders im Zusammenhang mit Bedingungsprüfungen (`if`, `while`) wird der Wahrheitswert eines Ausdrucks benötigt.\n",
    "\n",
    "Bespiel: Falls eine Zahl grösser als 10 ist, sollen bestimmte Anweisungen ausgeführt werden. Der dabei benötigte Ausdruck `x > 10` ist wahr, wenn `x` einen Zahlenwert grösser als 10 hat. Er ist falsch, wenn `x` einen Zahlenwert kleiner oder gleich 10 hat.\n",
    "\n",
    "Hier haben wir den Vergleichsoperator `>` verwendet. Folgende Vergleichoperatoren sind wichtig:\n",
    "\n",
    "- `>` : strikt grösser\n",
    "- `>=`: grösser oder gleich\n",
    "- `<` : strikt kleiner \n",
    "- `<=`: kleiner oder gleich\n",
    "- `==`: gleich\n",
    "- `!=`: ungleich"
   ]
  },
  {
   "cell_type": "code",
   "execution_count": 73,
   "metadata": {},
   "outputs": [
    {
     "name": "stdout",
     "output_type": "stream",
     "text": [
      "5>3: True\n",
      "5<3: False\n",
      "5 >= 5: True\n",
      "5 <= 6: False\n",
      "Hallo == Hallo: True\n",
      "Hallo != Welt: True\n",
      "Typ von 5>3:  <class 'bool'>\n"
     ]
    }
   ],
   "source": [
    "# strikt grosser/kleiner\n",
    "W = 5>3\n",
    "print(\"5>3:\", W)\n",
    "W = 5<3\n",
    "print(\"5<3:\", W)\n",
    "\n",
    "# grösser/kleiner oder gleich\n",
    "W = 5 >= 5\n",
    "print(\"5 >= 5:\", W)\n",
    "W = 5 <= 4\n",
    "print(\"5 <= 6:\", W)\n",
    "\n",
    "# gleich /ungleich\n",
    "W = 'Hallo' == 'Hallo'\n",
    "print(\"Hallo == Hallo:\", W)\n",
    "W = \"Hallo\" != 'Welt'\n",
    "print(\"Hallo != Welt:\", W)\n",
    "\n",
    "# Datentyp\n",
    "W = 5>3\n",
    "print(\"Typ von 5>3: \", type(W))"
   ]
  },
  {
   "cell_type": "markdown",
   "metadata": {},
   "source": [
    "### Wahrheitswerte von Objekten\n",
    "\n",
    "Alle Objekte in Python besitzen einen Wahrheitswert. Der Wahrheitswert eines Objektes kann mit der Funktion `bool()` überprüft werden (wie die Funktion `type()`).\n",
    "\n",
    "Folgende Objekte sind wahr (liefern `True`):\n",
    "\n",
    "- eine Zahl ungleich 0 (grösser oder kleiner als 0)\n",
    "- eine nicht leere Zeichnkette\n",
    "- eine nicht leere Liste\n",
    "\n",
    "Folgende Objekte sind falsch (liefern `False`):\n",
    "\n",
    "- eine Zahl gleich 0\n",
    "- eine leere Zeichnkette\n",
    "- eine leere Liste\n",
    "\n",
    "Beispiel:"
   ]
  },
  {
   "cell_type": "code",
   "execution_count": 74,
   "metadata": {},
   "outputs": [
    {
     "name": "stdout",
     "output_type": "stream",
     "text": [
      "Zahl 0.001000000000000334 ist True\n",
      "Zahl 0.0 ist False\n",
      "String Kurt ist nicht leer, also True\n",
      "Liste [3, 4] ist nicht leer, also True\n",
      "Liste [] ist leer also False\n"
     ]
    }
   ],
   "source": [
    "# wahre Zahl\n",
    "Z = 5 + 0.001 - 5\n",
    "print(\"Zahl\", Z, \"ist\", bool(Z))\n",
    "\n",
    "# nicht wahre Zahl\n",
    "Z = 5.75 - 5.75\n",
    "print(\"Zahl\", Z, \"ist\", bool(Z))\n",
    "\n",
    "# String\n",
    "S = \"Kurt\"\n",
    "print(\"String\", S, \"ist nicht leer, also\", bool(S))\n",
    "\n",
    "# Wahre Liste\n",
    "L = [3,4]\n",
    "print(\"Liste\", L, \"ist nicht leer, also\", bool(L))\n",
    "\n",
    "# Leere Liste\n",
    "print(\"Liste\", [], \"ist leer also\", bool([]))"
   ]
  },
  {
   "cell_type": "markdown",
   "metadata": {},
   "source": [
    "# 5. Programmierkurs <a class=\"anchor\" id=\"programmierkurs\"></a>\n",
    "\n",
    "In diesem Abschnitt wollen wir noch einmal grundlegende Konzepte der Programmierung wiederholen. Wir konzentrieren uns auf einfache Verzweigungen und Schleifen."
   ]
  },
  {
   "cell_type": "markdown",
   "metadata": {},
   "source": [
    "## 5.1 Verzweigungen <a class=\"anchor\" id=\"verzweigungen\"></a>\n",
    "\n",
    "In den bisherigen Code-Zellen werden alle Anweisungen der Reihe nach ausgeführt. Zur Steuerung des Programmablaufs werden allerdings häufig Verzweigungen benötigt. \n",
    "Innerhalb des Programms wird anhand einer Bedingung entschieden, welcher Zweig des Programms ausgeführt wird.<br>\n",
    "\n",
    "Wenn du beispielsweise das Menu in der Mensa nur dann zum Mittagessen nimmst, wenn weniger als 10 Leute anstehen, würden wir sagen:\n",
    "\n",
    "- *Falls weniger als 10 Leute anstehen*:\n",
    "    - *Essen in der Mensa*\n",
    "- *Andernfalls (sonst)*\n",
    "    - *Essen ausserhalb der Kanti*\n",
    "\n",
    "Genau gleich funktionieren Verzweigungen in der Programmierung.\n",
    "\n",
    "In diesem Beispiel ist *weniger als 10 Leute anstehen* die **Bedingung** und *Essen in der Mensa* resp. *Essen ausserhalb der Kanti* die jeweiligen **Zweige** die ausgeführt werden, falls die Bedingung `wahr` oder `falsch` ist.\n",
    "\n",
    "Bedingungen werden mithilfe von [**Vergleichsoperatoren**](#vergleichsoperatoren) durchgeführt, und resultieren in einem [Wahrheitswert](#booleans). <br>\n",
    "Wenn die Bedingung wahr ist, wird der Zweig der `if` Bedingung durchgeführt, ansonsten wird der Zweig innerhalb von `else` durchgeführt.\n",
    "\n",
    "*Syntax*:\n",
    "\n",
    "```python\n",
    "if BEDINGUNG:\n",
    "    # Zweig wenn Bedingung wahr ist\n",
    "else:\n",
    "    # Zweig wenn Bedingung falsch ist\n",
    "```\n",
    "\n",
    "*Wichtig*:<br>\n",
    "Nach der Bedingung kommt immer ein Doppelpunkt `:`. Die Anweisungen müssen innerhalb des sogenannten `if`-Zweigs mithilfe der `Tab`-Taste eingerückt werden, damit Python die Zugehörigkeit zur Verzweigung erkennen kann. Gleichzeitig macht die Einrückung das Programm übersichtlicher.\n",
    "\n",
    "Erstes Beispiel:"
   ]
  },
  {
   "cell_type": "code",
   "execution_count": 75,
   "metadata": {},
   "outputs": [
    {
     "name": "stdout",
     "output_type": "stream",
     "text": [
      "x: 12\n",
      "Diese Zahl ist positiv\n"
     ]
    }
   ],
   "source": [
    "x = 12\n",
    "print(\"x:\", x)\n",
    "\n",
    "# Die Bedingung\n",
    "if x > 0:\n",
    "    print(\"Diese Zahl ist positiv\")\n",
    "else:\n",
    "    print(\"Diese Zahl ist 0 oder negativ\")"
   ]
  },
  {
   "cell_type": "markdown",
   "metadata": {},
   "source": [
    "Ein `if`-Zweig kann auch ohne `else`-Zweig existieren. <br>\n",
    "Das ist der Fall, wenn wir aufgrund einer Bedingung etwas ausführen wollen. Wenn die Bedingung jedoch falsch ist, wird einfach nichts ausgeführt.\n",
    "\n",
    "Intuitives Beispiel:\n",
    "\n",
    "- *Falls es heute nicht regnet*:\n",
    "    - *Das Joggingtraining findet statt*\n",
    "\n",
    "Wenn die Bedingung im `if`-Statement erfüllt ist, wird der `if`-Zweig durchgeführt, ansonsten nicht."
   ]
  },
  {
   "cell_type": "code",
   "execution_count": 76,
   "metadata": {},
   "outputs": [
    {
     "name": "stdout",
     "output_type": "stream",
     "text": [
      "x: 18\n",
      "3 ist ein Teiler der Zahl 18\n"
     ]
    }
   ],
   "source": [
    "x = 18\n",
    "print(\"x:\", x)\n",
    "\n",
    "# Die Bedingung wird erfüllt wenn x % 3 == 0 ist. Das heisst, wenn x / 3 eine Division ohne Rest ist.\n",
    "if (x % 3) == 0:\n",
    "    print(\"3 ist ein Teiler der Zahl\", x)\n",
    "\n",
    "x = 20\n",
    "\n",
    "# Die Bedingung wird nicht mehr erfüllt sein, da 20 / 3 = 6 R 2, \n",
    "# also 20 % 3 = 2, und deshalb ist die Bedingung falsch\n",
    "if (x % 3) == 0:\n",
    "    print(\"3 ist ein Teiler der Zahl\", x)"
   ]
  },
  {
   "cell_type": "markdown",
   "metadata": {},
   "source": [
    "### Mehrfache Verzweigung\n",
    "\n",
    "In vielen Anwendungsfällen gibt es mehr als zwei Möglichkeiten, zwischen denen zu entscheiden ist. Dazu wird eine mehrfache Verzweigung benötigt. Im folgenden Beispiel wird untersucht, ob eine Zahl positiv, negativ oder gleich 0 ist. Es wird eine entsprechende Meldung ausgegeben."
   ]
  },
  {
   "cell_type": "code",
   "execution_count": 77,
   "metadata": {},
   "outputs": [
    {
     "name": "stdout",
     "output_type": "stream",
     "text": [
      "x: -5\n",
      "x ist negativ\n"
     ]
    }
   ],
   "source": [
    "x = -5\n",
    "print(\"x:\", x)\n",
    "\n",
    "if x > 0:\n",
    "    print(\"x ist positiv\")\n",
    "elif x < 0:\n",
    "    print(\"x ist negativ\")\n",
    "else:\n",
    "    print(\"x ist gleich 0\")"
   ]
  },
  {
   "cell_type": "markdown",
   "metadata": {},
   "source": [
    "- `elif`\n",
    "\n",
    "Nach `elif` wird eine weitere Bedingung formuliert. Sie wird nur untersucht, falls die erste Bedingung (nach dem `if`) nicht zutrifft. Falls `x` negativ ist, werden die nachfolgenden, eingerückten Anweisungen ausgeführt.\n",
    "\n",
    "- `else`\n",
    "\n",
    "Die Anweisungen nach dem `else` werden nur durchgeführt, falls keine der beiden vorherigen Bedingungen zutraf."
   ]
  },
  {
   "cell_type": "markdown",
   "metadata": {},
   "source": [
    "## 5.2 Schleifen <a class=\"anchor\" id=\"schleifen\"></a>\n",
    "\n",
    "Neben der Verzweigung gibt es eine weitere wichtige Struktur zu Steuerung von Programmen: die Schleife. Mithilfe einer Schleife ermöglichst du die wiederholte Ausführung eines Programmschritts.\n",
    "\n",
    "Es muss zwischen zwei Typen von Schleifen unterschieden werden: der `for`-Schleife und der `while`-Schleife. Der jeweilige Anwendungsbereich der beiden Typen wird durch folgende Merkmale definiert:\n",
    "\n",
    "- `for`\n",
    "\n",
    "Eine `for`-Schleife wird verwendet, wenn ein Programmschritt für eine regelmässige, zum Zeitpunkt der Anwendung bekannte Folge von Werten wiederholt ausgeführt werden soll. Beispielweise kannst du eine `for`-Schleife verwenden, wenn du für alle Elemente innerhalb einer Liste eine Berechnung durchführen willst. Oder wenn du für alle Zahlen zwischen 1 und 10, eine Berechnung mit der jeweiligen Zahl durchführen willst. Deshalb nennen wir die `for`-Schleife auch die *Zählschleife*.\n",
    "\n",
    "- `while`\n",
    "\n",
    "Eine `while`-Schleife ist eine sogenannte *bedingungsgesteuerte Schleife*. Sie wird verwendet, wenn du ein Programmschritt aufgrund von einer Bedinung mehrmahls durchführen willst. Sobald die Bedingung nicht mehr erfüllt ist, wird der Programmschritt nicht mehr durchgeführt."
   ]
  },
  {
   "cell_type": "markdown",
   "metadata": {},
   "source": [
    "### for-Schleife <a class=\"anchor\" id=\"for-schleife\"></a>\n",
    "\n",
    "Betrachte das folgende Beispiel:"
   ]
  },
  {
   "cell_type": "code",
   "execution_count": 78,
   "metadata": {},
   "outputs": [
    {
     "name": "stdout",
     "output_type": "stream",
     "text": [
      "Das Quadrat von 1 ist 1\n",
      "Das Quadrat von 2 ist 4\n",
      "Das Quadrat von 3 ist 9\n",
      "Das Quadrat von 4 ist 16\n",
      "Das Quadrat von 5 ist 25\n"
     ]
    }
   ],
   "source": [
    "x = 1\n",
    "print(\"Das Quadrat von\", x, \"ist\", x*x)\n",
    "x = 2\n",
    "print(\"Das Quadrat von\", x, \"ist\", x*x)\n",
    "x = 3\n",
    "print(\"Das Quadrat von\", x, \"ist\", x*x)\n",
    "x = 4\n",
    "print(\"Das Quadrat von\", x, \"ist\", x*x)\n",
    "x = 5\n",
    "print(\"Das Quadrat von\", x, \"ist\", x*x)"
   ]
  },
  {
   "cell_type": "markdown",
   "metadata": {},
   "source": [
    "Wie du vielleicht erkennst, verändern wir den Wert von `x`. Mit jedem neuen Wert wird eine Ausgabe mit dem Quadrat des Wertes generiert.\n",
    "\n",
    "Eine `for`-Schleife kann diese Code-Zelle aber vereinfachen. Beispielsweise könnten wir sagen:\n",
    "\n",
    "- **für** *Zahl* `in` *alle Zahlen zwischen 1 und 5*:\n",
    "    - print(\"Das Quadrat von\", Zahl, \"ist\", Zahl*Zahl)\n",
    "\n",
    "Also, wiederhole diesen Programmschritt für alle Zahlen im Interval [1, 5].\n",
    "\n",
    "Die `for`-Schleife führt dann diesen Programmschritt 5-Mal durch. Damit die `for`-Schleife aber bei einer **spezifischen Wiederholung** weiss, welche Zahl momentan gemeint ist, müssen wir eine Variable definieren, die innerhalb der `for`-Schleife den Wert der aktuellen Zahl hält.\n",
    "\n",
    "**Syntax**:\n",
    "\n",
    "```python\n",
    "\n",
    "for variable in Sequenz:\n",
    "    # berechne etwas mit der Variable x\n",
    "```\n",
    "\n",
    "Du erkennst hier, dass ich bei der Syntax bewusst das Wort **Sequenz** geschrieben habe. Denn bei `for`-Schleifen geben wir das Intervall oft als **Sequenz** an (Liste).\n",
    "\n",
    "### Range\n",
    "\n",
    "Eine wichtige **Sequenz** im Zusammenhang mit `for`-Schleifen erzeugen wir mit der sogenannten `range(startwert, endwert)` Funktion. Sie ermöglicht uns eine **Liste von ganzen Zahlen** zu erstellen. Dabei gilt:\n",
    "\n",
    "**Startwert**: Erste Zahl die zur Liste (Intervall) gehört<br>\n",
    "**Endwert**: Erster Zahl die **NICHT** mehr zur Liste (Intervall) gehört.\n",
    "\n",
    "Wenn du die Funktion `range` nur mit **einem Wert** verwendest, wird dieser Wert als **Endwert** angeschaut. \n",
    "Das heisst, `range(9)` beinhaltet alle Zahlen von 0 - 8. (Auch hier starten wir immer bei 0!)\n",
    "\n",
    "So können wir das obige Programm folgendermassen realisieren:"
   ]
  },
  {
   "cell_type": "code",
   "execution_count": 79,
   "metadata": {},
   "outputs": [
    {
     "name": "stdout",
     "output_type": "stream",
     "text": [
      "Das Quadrat von 1 ist 1\n",
      "Das Quadrat von 2 ist 4\n",
      "Das Quadrat von 3 ist 9\n",
      "Das Quadrat von 4 ist 16\n",
      "Das Quadrat von 5 ist 25\n"
     ]
    }
   ],
   "source": [
    "# Das Interval von [1, 5] erreichen wir mit range(1, 6)\n",
    "# Der Name der Variable ist i\n",
    "for i in range(1, 6):\n",
    "    print(\"Das Quadrat von\", i, \"ist\", i*i)"
   ]
  },
  {
   "cell_type": "markdown",
   "metadata": {},
   "source": [
    "Ich kann für die Variable natürlich auch einen anderen Namen wählen."
   ]
  },
  {
   "cell_type": "code",
   "execution_count": 80,
   "metadata": {},
   "outputs": [
    {
     "name": "stdout",
     "output_type": "stream",
     "text": [
      "Das Quadrat von 1 ist 1\n",
      "Das Quadrat von 2 ist 4\n",
      "Das Quadrat von 3 ist 9\n",
      "Das Quadrat von 4 ist 16\n",
      "Das Quadrat von 5 ist 25\n"
     ]
    }
   ],
   "source": [
    "# Das Interval von [1, 5] erreichen wir mit range(1, 6)\n",
    "# Der Name der Variable ist zahl\n",
    "for zahl in range(1, 6):\n",
    "    print(\"Das Quadrat von\", zahl, \"ist\", zahl*zahl)"
   ]
  },
  {
   "cell_type": "markdown",
   "metadata": {},
   "source": [
    "Diese `for`-Schleife verläuft so ab:\n",
    "\n",
    "- Nimm den Wert des **ersten** Elements innerhalb der Sequenz\n",
    "    - Speichere den Wert in der Variable `zahl` (Das erste Element ist die Zahl `0`)\n",
    "    - Führe alle Berechnungen innerhalb der Schleife durch\n",
    "- Nimm den Wert des **zweiten** Elements innerhalb der Sequenz\n",
    "    - Speichere den Wert in der Variable `zahl` (Das erste Element ist die Zahl `1`)\n",
    "    - Führe alle Berechnungen innerhalb der Schleife durch\n",
    "- Nimm den Wert des **dritten** Elements innerhalb der Sequenz\n",
    "    - Speichere den Wert in der Variable `zahl` (Das erste Element ist die Zahl `2`)\n",
    "    - Führe alle Berechnungen innerhalb der Schleife durch\n",
    "- etc.\n",
    "\n",
    "Dieses Verfahren wird für alle Zahlen wiederholt die im Intervall [1, 5] liegen (angegeben mit `range(1, 6)`)"
   ]
  },
  {
   "cell_type": "markdown",
   "metadata": {},
   "source": [
    "### Break und Continue\n",
    "\n",
    "Wir können Schleifen im allgemeinen unterbrechen, falls eine gewisse Beidnung erfüllt ist (`break`). \n",
    "Zudem können wir aufgrund von einer Bedingung auch sagen, dass für **das aktuelle Element** der Programmschritt **nicht durchgeführt** werden muss, ohne die Schleife abzubrechen (`continue`).\n",
    "\n",
    "Beispiele:"
   ]
  },
  {
   "cell_type": "code",
   "execution_count": 81,
   "metadata": {},
   "outputs": [
    {
     "name": "stdout",
     "output_type": "stream",
     "text": [
      "Das Quadrat von 1 ist 1\n",
      "Das Quadrat von 2 ist 4\n",
      "Das Quadrat von 3 ist 9\n"
     ]
    }
   ],
   "source": [
    "# Das Interval von [1, 5] erreichen wir mit range(1, 6)\n",
    "# Der Name der Variable ist zahl\n",
    "for zahl in range(1, 6):\n",
    "    # Die for-Schleife bricht ab, sobald das Quadrat grösser ist als 15\n",
    "    if zahl * zahl > 15:\n",
    "        # sobald eine Zahl gefunden wurde, die im Quadrat grösser ist als 15, wird die for-Schleife abgebrochen und die Berechnung wird für die übrigen Zahlen nicht mehr durchgeführt\n",
    "        break\n",
    "    print(\"Das Quadrat von\", zahl, \"ist\", zahl*zahl)"
   ]
  },
  {
   "cell_type": "code",
   "execution_count": 82,
   "metadata": {},
   "outputs": [
    {
     "name": "stdout",
     "output_type": "stream",
     "text": [
      "Das Quadrat von 4 ist 16\n",
      "Das Quadrat von 5 ist 25\n"
     ]
    }
   ],
   "source": [
    "# Das Interval von [1, 5] erreichen wir mit range(1, 6)\n",
    "# Der Name der Variable ist zahl\n",
    "for zahl in range(1, 6):\n",
    "    # Solange das Quadrat der Zahl kleiner ist als 15, fahren wir mit der for-Schleife direkt weiter,\n",
    "    # das heisst, \n",
    "    # alle darauffolgenden Zeilen innerhalb der for-Schleife, werden für diesen Durchlauf nicht mehr ausgeführt\n",
    "    if zahl * zahl < 15:\n",
    "        # Fahre in der Schleife direkt mit der nächsten Zahl weiter\n",
    "        continue\n",
    "    # Dieses Statement wird nur ausgeführt wenn das Quadrat der Zahl grösser oder gleich 15 ist\n",
    "    print(\"Das Quadrat von\", zahl, \"ist\", zahl*zahl)"
   ]
  },
  {
   "cell_type": "markdown",
   "metadata": {},
   "source": [
    "### `for`-Schleifen mit Listen\n",
    "\n",
    "Wir können nun ganz einfach über Listen iterieren. Wie wir bereits wissen, geben wir das Interval der `for`-Schleife mit einer Sequenz an.\n",
    "\n",
    "Dazu gibt es zwei Möglichkeiten:\n",
    "\n",
    "- Wir iterieren über die **Nummerieung** aller Elemente in der Liste\n",
    "    - In diesem Fall müssen wir noch den Wert des Elements mit der jeweiligen Nummerierung innerhalb der `for`-Schleife abfragen"
   ]
  },
  {
   "cell_type": "code",
   "execution_count": 83,
   "metadata": {},
   "outputs": [
    {
     "name": "stdout",
     "output_type": "stream",
     "text": [
      "Beispiel 1\n",
      "Stadt: Bern\n",
      "Stadt: Basel\n",
      "Stadt: Olten\n",
      "Stadt: Zürich\n"
     ]
    }
   ],
   "source": [
    "staedte = [\"Bern\", \"Basel\", \"Olten\", \"Zürich\"]\n",
    "\n",
    "print(\"Beispiel 1\")\n",
    "\n",
    "# für die Zahl 0 - (Anzahl elemente in staedte - 1)\n",
    "for nummerierung in range(len(staedte)):\n",
    "    # Da die Variable nummerierung eigentlich nur den aktuellen Index enthält, \n",
    "    # müssen wir den Wert innerhalb der Liste noch mit staedte[nummerierung] abfragen\n",
    "    print(\"Stadt:\", staedte[nummerierung])"
   ]
  },
  {
   "cell_type": "markdown",
   "metadata": {},
   "source": [
    "- Wir iterieren direkt über die **Werte** aller Elemente in der Liste\n",
    "    - In diesem Fall wissen wir nicht genau welche **Nummerierung** das Element innerhalb der Liste hat, wir haben aber bereits den Wert"
   ]
  },
  {
   "cell_type": "code",
   "execution_count": 84,
   "metadata": {},
   "outputs": [
    {
     "name": "stdout",
     "output_type": "stream",
     "text": [
      "Beispiel 2\n",
      "Stadt: Bern\n",
      "Stadt: Basel\n",
      "Stadt: Olten\n",
      "Stadt: Zürich\n"
     ]
    }
   ],
   "source": [
    "print(\"Beispiel 2\")\n",
    "# Direkter Weg: Hier enthält der Wert der Variable stadt direkt den Wert des Elements innerhalb der Liste\n",
    "for stadt in staedte:\n",
    "    print(\"Stadt:\", stadt)"
   ]
  },
  {
   "cell_type": "markdown",
   "metadata": {},
   "source": [
    "Überlege dir wie du in dieser `for`-Schleife die Nummerierung vom Element innerhalb der Liste abfragen kannst.\n",
    "[Tipp (Index)](#index-listen)"
   ]
  },
  {
   "cell_type": "markdown",
   "metadata": {},
   "source": [
    "Stelle sicher, dass du die Unterschiede der beiden Beispiele gut verstehst."
   ]
  },
  {
   "cell_type": "markdown",
   "metadata": {},
   "source": [
    "### Enumerate\n",
    "\n",
    "Alternativ gibt es noch eine Möglichkeit, wie wir über die Elemente innerhalb der Liste **und** deren Nummerierung zusammen itertieren können.\n",
    "Dazu existiert die eingebaute Funktion `enumerate(Liste)`.\n",
    "\n",
    "**Beispiel:**\n",
    "\n",
    "```python\n",
    "    for nummerierung, stadt in enumerate(staedte):\n",
    "        print(\"Stadt\", stadt, \"mit Nummerierung\", nummerierung)\n",
    "```\n",
    "\n",
    "**Wichtig**: Die erste Variable bezieht sich in jedem Fall auf die **Nummerierung** und die zweite Variable auf das **Element** innerhalb der Liste."
   ]
  },
  {
   "cell_type": "code",
   "execution_count": 85,
   "metadata": {},
   "outputs": [
    {
     "name": "stdout",
     "output_type": "stream",
     "text": [
      "Stadt Bern mit Nummerierung 0\n",
      "Stadt Basel mit Nummerierung 1\n",
      "Stadt Olten mit Nummerierung 2\n",
      "Stadt Zürich mit Nummerierung 3\n"
     ]
    }
   ],
   "source": [
    "# Einfacher weg, wenn wir die Nummerierung des Elements in der Liste und den Wert der Liste innerhalb der gleichen Schleife haben wollen\n",
    "for nummerierung, stadt in enumerate(staedte):\n",
    "    print(\"Stadt\", stadt, \"mit Nummerierung\", nummerierung)"
   ]
  },
  {
   "cell_type": "markdown",
   "metadata": {},
   "source": [
    "### while-Schleife <a class=\"anchor\" id=\"while-schleife\"></a>\n",
    "\n",
    "Die `while`-Schleife dient zur Steuerung einer Wiederholung mithilfe einer Bedingung. Im folgenden Programm werden zufällige Zahlen addiert und ausgegeben. Solange die Summe der Zahlen kleiner als 30 ist, wird der Vorgang wiederholt. Ist die Summe gleich oder grösser als 30, wird das Programm beendet.\n",
    "\n",
    "Syntax while-Schleife:\n",
    "\n",
    "```python\n",
    "\n",
    "while BEDINGUNG:\n",
    "    # While-Block\n",
    "```\n",
    "\n",
    "Beispiel:"
   ]
  },
  {
   "cell_type": "code",
   "execution_count": 91,
   "metadata": {},
   "outputs": [
    {
     "name": "stdout",
     "output_type": "stream",
     "text": [
      "Zahl: 6 Zwischensumme: 6\n",
      "Zahl: 8 Zwischensumme: 14\n",
      "Zahl: 2 Zwischensumme: 16\n",
      "Zahl: 8 Zwischensumme: 24\n",
      "Zahl: 3 Zwischensumme: 27\n",
      "Zahl: 2 Zwischensumme: 29\n",
      "Zahl: 7 Zwischensumme: 36\n",
      "Ende\n"
     ]
    }
   ],
   "source": [
    "# Zufallsgenerator\n",
    "import random\n",
    "random.seed()\n",
    "\n",
    "# Initialisierung\n",
    "summe = 0\n",
    "\n",
    "# while-Schleife\n",
    "while summe < 30:\n",
    "    zahl = random.randint(1,8)\n",
    "    summe = summe + zahl\n",
    "    print(\"Zahl:\", zahl, \"Zwischensumme:\", summe)\n",
    "    \n",
    "print(\"Ende\")"
   ]
  },
  {
   "cell_type": "markdown",
   "metadata": {},
   "source": [
    "### Liste iterieren mit while\n",
    "\n",
    "Wir können auch `while`-Schleifen verwenden um über Listen zu iterieren.\n",
    "Dazu musst du jeweils mit der Nummerierung innerhalb einer Liste arbeiten.<br>\n",
    "\n",
    "Du brauchst eine Zählvariable, mit der du immer wieder überprüfst, ob die Liste die Nummerierung der aktuellen Zählvariable beinhaltet. Die Zählvariable muss aber in jedem Schritt erhöht werden.\n",
    "\n",
    "Beispiel:"
   ]
  },
  {
   "cell_type": "code",
   "execution_count": 92,
   "metadata": {},
   "outputs": [
    {
     "name": "stdout",
     "output_type": "stream",
     "text": [
      "Die Stadt mit Nummerierung 0 ist Bern\n",
      "Die Stadt mit Nummerierung 1 ist Zürich\n",
      "Die Stadt mit Nummerierung 2 ist Olten\n",
      "Die Stadt mit Nummerierung 3 ist Solothurn\n",
      "Die Stadt mit Nummerierung 4 ist Genf\n",
      "Die Stadt mit Nummerierung 5 ist Lausanne\n"
     ]
    }
   ],
   "source": [
    "staedte = [\"Bern\", \"Zürich\", \"Olten\", \"Solothurn\", \"Genf\", \"Lausanne\"]\n",
    "\n",
    "# starte mit einer Zählvariable\n",
    "i = 0\n",
    "# währendem die Zählvariable kleiner ist als die Länge der Liste 'staedte'\n",
    "while i < len(staedte):\n",
    "    print(\"Die Stadt mit Nummerierung\", i, \"ist\", staedte[i])\n",
    "    i += 1"
   ]
  },
  {
   "cell_type": "markdown",
   "metadata": {},
   "source": [
    "# 6. Weiterführende Programmierung <a class=\"anchor\" id=\"weiterfuehrende-programmierung\"></a>"
   ]
  },
  {
   "cell_type": "markdown",
   "metadata": {},
   "source": [
    "## 6.1 Funktionen <a class=\"anchor\" id=\"funktionen\"></a>\n",
    "\n",
    "Die Modularisierung, also die Zerlegung einer Programms in selbst geschriebene Funktionen, bietet besonders bei grösseren Programmen unübersehbare Vorteile:\n",
    "\n",
    "- Programmteile die mehrmals benötigt werden, müssen nur einmal definiert werden\n",
    "- Nützliche Programmteile können in mehreren Programmen verwendet werden.\n",
    "- Umfangreiche Programme können in unterschiedliche Teile zerlegt werden.\n",
    "- Pflege und Wartung von Programmen wird erleichtert.\n",
    "- Der Programmcode ist für die Programmiererin/den Programmierer leichter zu verstehen.\n",
    "\n",
    "### Funktionsdefinition und Funktionsaufruf\n",
    "\n",
    "Funktionen können uns also helfen, den Programmcode zu vereinfachen. Dabei müssen wir unterscheiden:\n",
    "\n",
    "- **Funktionsdefinition**:\n",
    "    Hier definieren wir die Aktion, welche von dieser Funktion ausgeführt werden soll. Dabei wird die Aktion bei der Funktionsdefinition selber nicht ausgeführt, sondern nur *definiert*. Wenn wir die Aktion der Funktion ausführen wollen, brauchen wir einen **Funktionsaufruf**.<br>\n",
    "    <br>\n",
    "- **Funktionsaufruf**:\n",
    "    Wenn die Funktion verwendet wird (wie bei `print()`), wird automatisch der Programmcode innerhalb der **Funktionsdefinition** ausgeführt.\n",
    "<br>\n",
    "<br>\n",
    "**Wichtig**: <br>\n",
    "Eine Funktion kann erst dann verwendet werden (*Funktionsaufruf*), wenn Sie zuvor definiert wurde.\n",
    "\n",
    "#### Schreibweise \n",
    "\n",
    "Schreibweise für die Funktionsdefinition:\n",
    "\n",
    "```python\n",
    "    def funktionsname():\n",
    "        # Funktionsblock\n",
    "```\n",
    "\n",
    "Eine Funktion wird in Python mit dem Schlüsselwort **def** angezeigt. <br>\n",
    "Danach geben wir der Funktion einen Namen (diesen Namen verwenden wir auch beim Aufruf).<br>\n",
    "Nach dem Namen folgen einfache Klammern `()` (wie du später sehen wirst, ist das ein Behälter für Parameter) und ein Doppelpunkt `:`.<br>\n",
    "Nun gehört **alles** innerhalb vom **Funktionsblock** zur ausführbaren Aktion der Funktion. Das heisst, beim Funktionsaufruf wird der ganze **Funktionsblock** ausgeführt.<br>\n",
    "\n",
    "**Wichtig**: Alle Zeilen innerhalb vom **Funktionsblock** müssen mit der *Tab*-Taste eingerückt werden.\n",
    "\n",
    "Schreibweise für die Funktionsaufruf:\n",
    "\n",
    "Wenn wir die Funktion einmal definiert haben, können wir sie aufrufen. Wenn wir die Funktion aufrufen, wird der gesamte **Funktionsblock** der Funktionsdefinition ausgeführt.\n",
    "\n",
    "**Wichtig**: Beim Funktionsaufruf musst du ebenfall **immer** die einfachen Klammern `()` verwenden, damit der Python interpreter weiss, dass du eine Funktion ausführen willst.\n",
    "\n",
    "```python\n",
    "    funktionsname()\n",
    "```\n",
    "\n",
    "### Einfache Funktionen\n",
    "\n",
    "Einfache Funktionen führen beim **Aufruf** stets die gleiche Aktion aus. Im folgenden Beispiel führt jeder Aufruf der Funktion `stern()` dazu, dass eine optische Trennung auf dem Bildschirm ausgegeben wird. \n",
    "\n",
    "Ein Beispiel:"
   ]
  },
  {
   "cell_type": "code",
   "execution_count": 86,
   "metadata": {},
   "outputs": [
    {
     "name": "stdout",
     "output_type": "stream",
     "text": [
      "-----------------\n",
      "*** Trennung ****\n",
      "-----------------\n",
      "x = 12 , y = 5\n",
      "-----------------\n",
      "*** Trennung ****\n",
      "-----------------\n",
      "x + y = 17\n",
      "-----------------\n",
      "*** Trennung ****\n",
      "-----------------\n",
      "x - y = 7\n",
      "-----------------\n",
      "*** Trennung ****\n",
      "-----------------\n"
     ]
    }
   ],
   "source": [
    "# Definition der Funktion\n",
    "def stern():\n",
    "    print(\"-----------------\")\n",
    "    print(\"*** Trennung ****\")\n",
    "    print(\"-----------------\")\n",
    "\n",
    "# Haupt-Programm\n",
    "x = 12\n",
    "y = 5\n",
    "stern()                         # 1. Aufruf\n",
    "print(\"x =\", x, \", y =\", y)\n",
    "stern()                         # 2. Aufruf\n",
    "print(\"x + y =\", x + y)\n",
    "stern()                         # 3. Aufruf\n",
    "print(\"x - y =\", x - y)\n",
    "stern()                         # 4. Aufruf"
   ]
  },
  {
   "cell_type": "markdown",
   "metadata": {},
   "source": [
    "Die Funktion `stern()` wird zuerst nur *definiert* und nicht *ausgeführt*. Sie steht sozusagen zum späteren Gebrauch bereit. Im unteren Teil der Zelle beginnt das eigentliche Programm.\n",
    "\n",
    "*Übrigens*: Den Namen einer Funktion kannst du weitgeend frei wählen."
   ]
  },
  {
   "cell_type": "markdown",
   "metadata": {},
   "source": [
    "### Parameter <a class=\"anchor\" id=\"parameter\"></a>\n",
    "\n",
    "Einfache Funktionen können wir daran erkennen, dass sie von keiner *äusseren* Variable abhängig sind. Das heisst, sie führen beim Aufruf stets die gleiche *Aktion* aus. Oft ergibt es jedoch Sinn, wenn wir der Funktion auch noch **Werte** übergeben können, so dass die *Aktion* der Funktion abhängig von diesen übergebenen **Werten** ist. \n",
    "\n",
    "Diese *Informationen / Werte* die wir an die Funktion übermitteln nennen wir **Parameter**. \n",
    "\n",
    "Dazu ein kleines Beispiel:"
   ]
  },
  {
   "cell_type": "code",
   "execution_count": 87,
   "metadata": {},
   "outputs": [
    {
     "name": "stdout",
     "output_type": "stream",
     "text": [
      "3 ist ein Teiler der Zahl 18\n",
      "2 ist ein Teiler der Zahl 18\n",
      "5 ist ein Teiler der Zahl 20\n",
      "2 ist ein Teiler der Zahl 20\n"
     ]
    }
   ],
   "source": [
    "ersteZahl = 18\n",
    "\n",
    "if (ersteZahl % 3) == 0:\n",
    "    print(\"3 ist ein Teiler der Zahl\", ersteZahl)\n",
    "if (ersteZahl % 5) == 0:\n",
    "    print(\"5 ist ein Teiler der Zahl\", ersteZahl)\n",
    "if (ersteZahl % 2) == 0:\n",
    "    print(\"2 ist ein Teiler der Zahl\", ersteZahl)\n",
    "\n",
    "zweiteZahl = 20\n",
    "\n",
    "if (zweiteZahl % 3) == 0:\n",
    "    print(\"3 ist ein Teiler der Zahl\", zweiteZahl)\n",
    "if (zweiteZahl % 5) == 0:\n",
    "    print(\"5 ist ein Teiler der Zahl\", zweiteZahl)\n",
    "if (zweiteZahl % 2) == 0:\n",
    "    print(\"2 ist ein Teiler der Zahl\", zweiteZahl)"
   ]
  },
  {
   "cell_type": "markdown",
   "metadata": {},
   "source": [
    "Wie du sehen kannst, definiere ich zwei Variablen `ersteZahl` und `zweiteZahl`. Für beide Zahlen will ich gewisse Teiler ermitteln. Deshalb muss ich 6 Programmzeilen 2-Mal schreiben, die sich eigentlich nur in der verwendeten Variable (`ersteZahl` und `zweiteZahl`) innerhalb der Bedingung und der `print()` Funktion unterscheiden.\n",
    "\n",
    "Nun können wir für diese 6-zeilen eine Funktion definieren, die beim Aufruf genau diese 6-Zeilen ausführt. \n",
    "Diese 6-Zeilen sind jedoch abhängig vom Wert einer Variable. Da ich bei der Funktionsdefinition diese Variable nicht kenne, muss ich Sie als **Parameter** in der Funktionsddefinition kennzeichnen. Die **Parameter** einer Funktion werden in die einfachen Klammern `()` geschrieben. \n",
    "\n",
    "Du kannst den Namen der Parameter frei wählen.\n",
    "\n",
    "**Syntax**:\n",
    "\n",
    "```python\n",
    "\n",
    "def Teiler(parameter):\n",
    "    # Funktionsblock\n",
    "```\n",
    "\n",
    "Für diese 6-Zeilen könnten wir somit folgende Funktion definieren:"
   ]
  },
  {
   "cell_type": "code",
   "execution_count": 88,
   "metadata": {},
   "outputs": [
    {
     "name": "stdout",
     "output_type": "stream",
     "text": [
      "Untersuche Teiler der Zahl 18\n",
      "3 ist ein Teiler der Zahl 18\n",
      "2 ist ein Teiler der Zahl 18\n",
      "Untersuche Teiler der Zahl 20\n",
      "5 ist ein Teiler der Zahl 20\n",
      "2 ist ein Teiler der Zahl 20\n",
      "Untersuche Teiler der Zahl 21\n",
      "3 ist ein Teiler der Zahl 21\n"
     ]
    }
   ],
   "source": [
    "# Funktionsdefinition mit einem Parameter\n",
    "def Teiler(untersuchendeZahl):\n",
    "    print(\"Untersuche Teiler der Zahl\", untersuchendeZahl)\n",
    "    if (untersuchendeZahl % 3) == 0:\n",
    "        print(\"3 ist ein Teiler der Zahl\", untersuchendeZahl)\n",
    "    if (untersuchendeZahl % 5) == 0:\n",
    "        print(\"5 ist ein Teiler der Zahl\", untersuchendeZahl)\n",
    "    if (untersuchendeZahl % 2) == 0:\n",
    "        print(\"2 ist ein Teiler der Zahl\", untersuchendeZahl)\n",
    "\n",
    "# Variablendefinition\n",
    "ersteZahl = 18\n",
    "zweiteZahl = 20\n",
    "dritteZahl = 21\n",
    "\n",
    "# Funktionsaufruf\n",
    "Teiler(ersteZahl)\n",
    "Teiler(zweiteZahl)\n",
    "Teiler(dritteZahl)"
   ]
  },
  {
   "cell_type": "markdown",
   "metadata": {},
   "source": [
    "Wie du sehen kannst, geben wir dem Parameter in der Funktionsdefinition den Namen `untersuchendeZahl`. Nun sind alle Berechnungen innerhalb des Funktionsblocks abhängig von diesem einen **Parameter**.\n",
    "\n",
    "Nach der Definition können wir die Funktion ausführen und erhalten je nach übergebenem Wert eine andere Ausgabe. Die Aktion der Funktion ist also abhängig von der übergebenen Information."
   ]
  },
  {
   "cell_type": "markdown",
   "metadata": {},
   "source": [
    "#### Funktion mit mehreren Parameter\n",
    "\n",
    "Ein Funktion kann auch noch vielseitiger werden. Wir können beispielsweise mehrere Parameter an die Funktion übermitteln. Das bedeutet aber auch, dass die Funktionsdefinition mehrere Parameter beinhalten muss.\n",
    "\n",
    "Beispielweise könnte ich die obige Funktion noch Vereinfachen, um Teiler zu untersuchen."
   ]
  },
  {
   "cell_type": "code",
   "execution_count": 89,
   "metadata": {},
   "outputs": [
    {
     "name": "stdout",
     "output_type": "stream",
     "text": [
      "2 ist ein Teiler der Zahl 18\n",
      "4 ist kein Teiler der Zahl 18\n",
      "5 ist kein Teiler der Zahl 18\n",
      "6 ist ein Teiler der Zahl 18\n"
     ]
    }
   ],
   "source": [
    "# Funktionsdefinition mit mehreren Parametern\n",
    "def Teiler_neu(dividend, divisor):\n",
    "    if (dividend % divisor) == 0:\n",
    "        print(divisor, \"ist ein Teiler der Zahl\", dividend)\n",
    "    else:\n",
    "        print(divisor, \"ist kein Teiler der Zahl\", dividend)\n",
    "\n",
    "# Funktionsaufruf\n",
    "Teiler_neu(18, 2)\n",
    "Teiler_neu(18, 4)\n",
    "Teiler_neu(18, 5)\n",
    "Teiler_neu(18, 6)"
   ]
  },
  {
   "cell_type": "markdown",
   "metadata": {},
   "source": [
    "### Rückgabewerte <a class=\"anchor\" id=\"rueckgabewerte\"></a>\n",
    "\n",
    "Funktionen werden häufig zur Berechnung von Ergebnissen eingesetzt. Zu diesem Zweck können Funktionen ihre Ergebnisse als sogenannte *Rückgabewerte* zurückliefern.<br>\n",
    "\n",
    "Diese Eigenschaft kann nützlich sein, wenn wir beispielsweise das Ergebnis eines Funktionaufrus in einer neuen Variable speichern wollen. \n",
    "\n",
    "Syntax Rückgabewerte:\n",
    "\n",
    "```python\n",
    "    def funktionsname():\n",
    "        # Funktionsblock\n",
    "        return ergebnis\n",
    "```\n",
    "\n",
    "Der Rückgabewert wird mit dem **return** Schlüsselwort gekennzeichnet. \n",
    "\n",
    "Beispiel:"
   ]
  },
  {
   "cell_type": "code",
   "execution_count": 90,
   "metadata": {},
   "outputs": [
    {
     "name": "stdout",
     "output_type": "stream",
     "text": [
      "Mittelwert: 6.0\n"
     ]
    }
   ],
   "source": [
    "# Definition der Funktion\n",
    "def mittelwert(x,y):\n",
    "    ergebnis = (x+y) / 2\n",
    "    return ergebnis\n",
    "\n",
    "# Hauptprogramm\n",
    "c = mittelwert(3, 9)\n",
    "print(\"Mittelwert:\", c)"
   ]
  },
  {
   "cell_type": "markdown",
   "metadata": {},
   "source": [
    "Innerhalb der Funktion wird zunächst das Ergebnis berechnet. Es wird anschliessend mithilfe der Anweisung *return* an die aufrufende Stelle zurückgeliefert. Die Anweisung *return* beendet ausserdem unmittelbar den Ablauf der Funktion.\n",
    "\n",
    "**Rückgabe speichern**:\n",
    "\n",
    "Beim ersten Aufruf wird der Rückgabewert in der Variablen *c* zwischengespeichert. Er kann im weiteren Verlauf des Programms an beliebiger Stelle verwendet werden."
   ]
  },
  {
   "cell_type": "markdown",
   "metadata": {},
   "source": [
    "## 6.2 Eingebaute Funktionen <a class=\"anchor\" id=\"eingebaute-funktionen\"></a>"
   ]
  },
  {
   "cell_type": "markdown",
   "metadata": {},
   "source": [
    "## 6.3 Ausgabe und Formatierung <a class=\"anchor\" id=\"ausgabe-formatierung\"></a>\n",
    "\n",
    "TODO\n",
    "\n"
   ]
  },
  {
   "cell_type": "markdown",
   "metadata": {},
   "source": [
    "### Funktion print() <a class=\"anchor\" id=\"print\"></a>\n",
    "\n",
    "TODO\n",
    "\n"
   ]
  },
  {
   "cell_type": "markdown",
   "metadata": {},
   "source": [
    "## 6.4 Module <a class=\"anchor\" id=\"module\"></a>\n",
    "\n",
    "TODO"
   ]
  }
 ],
 "metadata": {
  "interpreter": {
   "hash": "a4e1eb2ff90f4927b8f5f3d98b7cb0a482f9642de3a6c820b6887de12f30fef9"
  },
  "kernelspec": {
   "display_name": "Python 3.9.7 64-bit",
   "language": "python",
   "name": "python3"
  },
  "language_info": {
   "codemirror_mode": {
    "name": "ipython",
    "version": 3
   },
   "file_extension": ".py",
   "mimetype": "text/x-python",
   "name": "python",
   "nbconvert_exporter": "python",
   "pygments_lexer": "ipython3",
   "version": "3.9.7"
  },
  "orig_nbformat": 4
 },
 "nbformat": 4,
 "nbformat_minor": 2
}
