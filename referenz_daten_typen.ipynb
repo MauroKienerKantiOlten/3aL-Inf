{
 "cells": [
  {
   "cell_type": "markdown",
   "metadata": {},
   "source": [
    "# Referenzen zur Programmiersprache Python\n",
    "\n",
    "## 1. Datentypen\n",
    "\n",
    "In der Programmierung ist der **Datentyp** ein wichtiges Konzept. Der Datentyp von einer Variable definiert die Methoden und Funktionen die auf der Variable ausgeführt werden können.\n",
    "\n",
    "Variablen können Daten verschiedener Typen speichern, und verschiedene Typen können verschiedene Dinge tun.\n",
    "Python hat standardmäßig die folgenden Datentypen in diesen Kategorien eingebaut:\n",
    "\n",
    "- Text-Typen:\t        `str`\n",
    "- Numerische-Typen: \t`int`, `float`, `complex`\n",
    "- Sequenztypen: \t    `list`, `tuple`, `range`\n",
    "- Mapping-Typen:        `dict`\n",
    "- Mengen-Typen:\t        `set`, `frozenset`\n",
    "- Boolean-Typen:\t    `bool`\n",
    "- Binäre-Typen:\t        `bytes`, `bytearray`, `memoryview`\n",
    "\n",
    "Dabei sind für uns (noch) nicht alle Typen relevant. Die wichtigsten Typen sind:\n",
    "\n",
    "- Strings:      `str` (einfach Zeichenketten)\n",
    "- Integers:     `int` (Ganze Zahlen)\n",
    "- Floats:       `float` (Kommazahlen)\n",
    "- Booleans:     `bool` (Wahrheits-Werte (`True` oder `False`))\n",
    "- Listen:       `list`"
   ]
  },
  {
   "cell_type": "markdown",
   "metadata": {},
   "source": [
    "Mit der Funktion `type()` kannst du in Python jeweils herausfinden, um welchen Datentyp es sich handelt."
   ]
  },
  {
   "cell_type": "code",
   "execution_count": 17,
   "metadata": {},
   "outputs": [
    {
     "name": "stdout",
     "output_type": "stream",
     "text": [
      "<class 'str'>\n"
     ]
    }
   ],
   "source": [
    "text = \"Hallo Welt\"\n",
    "print(type(text))"
   ]
  },
  {
   "cell_type": "markdown",
   "metadata": {},
   "source": [
    "## Wie können wir verschiedene Datentypen erstellen?\n",
    "\n",
    "Im folgenden Code-Beispiel siehst du wie du die unterschiedliche Datentypen erstellst."
   ]
  },
  {
   "cell_type": "code",
   "execution_count": 22,
   "metadata": {},
   "outputs": [
    {
     "name": "stdout",
     "output_type": "stream",
     "text": [
      "<class 'str'>\n",
      "<class 'int'>\n",
      "<class 'float'>\n",
      "<class 'list'>\n",
      "<class 'bool'>\n"
     ]
    }
   ],
   "source": [
    "# str (Zeichenkette)\n",
    "my_string_var = \"Hello World\"\n",
    "print(type(my_string_var))\n",
    "\n",
    "# int (Integer, Ganze Zahlen)\n",
    "my_integer_var = 20\t\n",
    "print(type(my_integer_var))\n",
    "\n",
    "# float (Kommazahlen)\n",
    "my_float_var = 20.5\n",
    "print(type(my_float_var))\n",
    "\n",
    "# list (Listen)\n",
    "my_list_var = [\"apple\", \"banana\", \"cherry\"]\n",
    "print(type(my_list_var))\n",
    "\n",
    "# bool (Wahrheitswert)\n",
    "my_bool_var = True\t\n",
    "print(type(my_bool_var))"
   ]
  },
  {
   "cell_type": "markdown",
   "metadata": {},
   "source": [
    "## Warum sind unterschiedliche Datentypen wichtig?\n",
    "\n",
    "Es gibt momente, da müssen wir den Datentyp nicht genau beachten, und können ganz einfach programmieren. Es gibt aber auch Situationen, in denen wir uns überlegen müssen, welchen Datentyp wir genau bearbeiten.\n",
    "\n",
    "Beispielsweise können wir Zeichenketten (`str`-Type) ganz einfach mit dem $+$ Zeichen aneinanderhängen.\n",
    "Das funktioniert aber nur dann, wenn beide Operatoren vom Typ `str`, also String, sind.\n",
    "\n",
    "### Beispiel"
   ]
  },
  {
   "cell_type": "code",
   "execution_count": 19,
   "metadata": {},
   "outputs": [
    {
     "ename": "TypeError",
     "evalue": "can only concatenate str (not \"int\") to str",
     "output_type": "error",
     "traceback": [
      "\u001b[1;31m---------------------------------------------------------------------------\u001b[0m",
      "\u001b[1;31mTypeError\u001b[0m                                 Traceback (most recent call last)",
      "\u001b[1;32m~\\AppData\\Local\\Temp/ipykernel_1516/2812659272.py\u001b[0m in \u001b[0;36m<module>\u001b[1;34m\u001b[0m\n\u001b[1;32m----> 1\u001b[1;33m \u001b[0mprint\u001b[0m\u001b[1;33m(\u001b[0m\u001b[0mmy_string_var\u001b[0m \u001b[1;33m+\u001b[0m \u001b[0mmy_integer_var\u001b[0m\u001b[1;33m)\u001b[0m\u001b[1;33m\u001b[0m\u001b[1;33m\u001b[0m\u001b[0m\n\u001b[0m",
      "\u001b[1;31mTypeError\u001b[0m: can only concatenate str (not \"int\") to str"
     ]
    }
   ],
   "source": [
    "print(my_string_var + my_integer_var)"
   ]
  },
  {
   "cell_type": "markdown",
   "metadata": {},
   "source": [
    "**Fehler**: *can only concatenate str (not \"int\") to str*\n",
    "\n",
    "Da die `print()` Funktion eine Zeichenkette erwartet, versucht Python die beiden Zeichenketten aneinanderzuhängen. Da aber `my_integer_var` nicht vom Typ `str` ist, funktioniert diese Operation nicht.\n",
    "\n",
    "**Lösung**:\n",
    "\n",
    "Verwende eine Funktion, die die Variable `my_integer_var` als String zurckgibt. Dann können wir die beiden Zeichenketten aneinanderhängen. Dazu kannst du die Funktion `str()` verwenden."
   ]
  },
  {
   "cell_type": "code",
   "execution_count": 23,
   "metadata": {},
   "outputs": [
    {
     "name": "stdout",
     "output_type": "stream",
     "text": [
      "Hello World 20\n"
     ]
    }
   ],
   "source": [
    "print(my_string_var + ' ' + str(my_integer_var))"
   ]
  },
  {
   "cell_type": "markdown",
   "metadata": {},
   "source": [
    "Beachte dabei, der Datentyp von `my_integer_var` ist immernoch derselbe (`int`). Aber mit der Funktion `str()` erhalten wir die String-Repräsentation der Variable zurück."
   ]
  },
  {
   "cell_type": "markdown",
   "metadata": {},
   "source": [
    "## Funktionen des Datentyps\n",
    "\n",
    "Je nach Datentyp können wir eine unterschiedliche Syntax verwenden. Zusätzlich haben unterschiedliche Datentypen auch unterschiedliche Funktionen.\n",
    "\n",
    "Beispielsweise besitzt eine Zeichenkette die Funktion `lower()`, die eine Zeichenkette nur mit Kleinbuchstaben zurückgibt. Diese Funktion existiert aber für andere Datentypen nicht."
   ]
  },
  {
   "cell_type": "code",
   "execution_count": null,
   "metadata": {},
   "outputs": [
    {
     "name": "stdout",
     "output_type": "stream",
     "text": [
      "hello world\n"
     ]
    }
   ],
   "source": [
    "# Diese Methode funktioniert\n",
    "print(my_string_var.lower())"
   ]
  },
  {
   "cell_type": "code",
   "execution_count": null,
   "metadata": {},
   "outputs": [
    {
     "ename": "AttributeError",
     "evalue": "'int' object has no attribute 'lower'",
     "output_type": "error",
     "traceback": [
      "\u001b[1;31m---------------------------------------------------------------------------\u001b[0m",
      "\u001b[1;31mAttributeError\u001b[0m                            Traceback (most recent call last)",
      "\u001b[1;32m~\\AppData\\Local\\Temp/ipykernel_13720/2255829207.py\u001b[0m in \u001b[0;36m<module>\u001b[1;34m\u001b[0m\n\u001b[1;32m----> 1\u001b[1;33m \u001b[0mprint\u001b[0m\u001b[1;33m(\u001b[0m\u001b[0mmy_integer_var\u001b[0m\u001b[1;33m.\u001b[0m\u001b[0mlower\u001b[0m\u001b[1;33m(\u001b[0m\u001b[1;33m)\u001b[0m\u001b[1;33m)\u001b[0m\u001b[1;33m\u001b[0m\u001b[1;33m\u001b[0m\u001b[0m\n\u001b[0m",
      "\u001b[1;31mAttributeError\u001b[0m: 'int' object has no attribute 'lower'"
     ]
    }
   ],
   "source": [
    "# Diese Methode funktioniert nicht\n",
    "print(my_integer_var.lower())"
   ]
  },
  {
   "cell_type": "markdown",
   "metadata": {},
   "source": [
    "Zusätzlich können wir beispielsweise die $+$ Operation mit unterschiedlichen Datentypen ausführen. Jedoch gilt: Beide Operatoren müssen vom gleichen Datentyp sein."
   ]
  },
  {
   "cell_type": "code",
   "execution_count": 24,
   "metadata": {},
   "outputs": [
    {
     "name": "stdout",
     "output_type": "stream",
     "text": [
      "['apple', 'banana', 'cherry', 'mango', 'kiwi', 'strawberry']\n"
     ]
    }
   ],
   "source": [
    "my_second_list = [\"mango\", \"kiwi\", \"strawberry\"]\n",
    "\n",
    "# Zwei Listen können zu einer neuen liste zusammengefügt werden\n",
    "my_added_list = my_list_var + my_second_list\n",
    "print(my_added_list)"
   ]
  },
  {
   "cell_type": "code",
   "execution_count": 25,
   "metadata": {},
   "outputs": [
    {
     "ename": "TypeError",
     "evalue": "can only concatenate str (not \"list\") to str",
     "output_type": "error",
     "traceback": [
      "\u001b[1;31m---------------------------------------------------------------------------\u001b[0m",
      "\u001b[1;31mTypeError\u001b[0m                                 Traceback (most recent call last)",
      "\u001b[1;32m~\\AppData\\Local\\Temp/ipykernel_1516/3356787721.py\u001b[0m in \u001b[0;36m<module>\u001b[1;34m\u001b[0m\n\u001b[0;32m      1\u001b[0m \u001b[1;31m# Diese Operation funktioniert nicht, da wir unterschiedliche Datentypen haben\u001b[0m\u001b[1;33m\u001b[0m\u001b[1;33m\u001b[0m\u001b[0m\n\u001b[1;32m----> 2\u001b[1;33m \u001b[0mmy_new_var\u001b[0m \u001b[1;33m=\u001b[0m \u001b[0mmy_string_var\u001b[0m \u001b[1;33m+\u001b[0m \u001b[0mmy_list_var\u001b[0m\u001b[1;33m\u001b[0m\u001b[1;33m\u001b[0m\u001b[0m\n\u001b[0m",
      "\u001b[1;31mTypeError\u001b[0m: can only concatenate str (not \"list\") to str"
     ]
    }
   ],
   "source": [
    "# Diese Operation funktioniert nicht, da wir unterschiedliche Datentypen haben\n",
    "my_new_var = my_string_var + my_list_var"
   ]
  },
  {
   "cell_type": "markdown",
   "metadata": {},
   "source": [
    "**Notiz**: Mit numerischen Datentypen kannst du rechnen, auch wenn du zwei Variablen der Typen `int` und `float` hast. Python wird dann automatisch die `int` Variable zu einem `float` ändern."
   ]
  },
  {
   "cell_type": "code",
   "execution_count": 26,
   "metadata": {},
   "outputs": [
    {
     "name": "stdout",
     "output_type": "stream",
     "text": [
      "40.5\n",
      "<class 'float'>\n"
     ]
    }
   ],
   "source": [
    "my_float_var_2 = my_integer_var + my_float_var\n",
    "print(my_float_var_2)\n",
    "print(type(my_float_var_2))"
   ]
  },
  {
   "cell_type": "markdown",
   "metadata": {},
   "source": [
    "## Ressources\n",
    "\n",
    "- [String](https://www.w3schools.com/python/python_strings.asp)\n",
    "- [Integer und Float](https://www.w3schools.com/python/python_numbers.asp)\n",
    "- [List](https://www.w3schools.com/python/python_lists.asp)\n",
    "- [Boolean](https://www.w3schools.com/python/python_booleans.asp)"
   ]
  }
 ],
 "metadata": {
  "interpreter": {
   "hash": "a4e1eb2ff90f4927b8f5f3d98b7cb0a482f9642de3a6c820b6887de12f30fef9"
  },
  "kernelspec": {
   "display_name": "Python 3.9.7 64-bit",
   "name": "python3"
  },
  "language_info": {
   "codemirror_mode": {
    "name": "ipython",
    "version": 3
   },
   "file_extension": ".py",
   "mimetype": "text/x-python",
   "name": "python",
   "nbconvert_exporter": "python",
   "pygments_lexer": "ipython3",
   "version": "3.9.7"
  },
  "orig_nbformat": 4
 },
 "nbformat": 4,
 "nbformat_minor": 2
}
