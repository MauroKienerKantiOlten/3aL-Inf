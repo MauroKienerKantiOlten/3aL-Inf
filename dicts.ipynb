{
 "cells": [
  {
   "cell_type": "markdown",
   "metadata": {},
   "source": [
    "# Repetition 3\n",
    "\n",
    "## Dictionaries\n",
    "\n",
    "Ein Dictionary ist mit einem Wörterbuch zu vergleichen. In einem Wörterbuch findest Du unter einem Schlüsselbegriff die zugeördnete Information. So steht etwa in einem englisch-deutschen Wörterbuch unter dem Eintrag *house* (Schlüsselbegriff) der zugeordnete Begriff *Haus* (Wert).\n",
    "\n",
    "Bevor wir aber das Dictionary kennenlernen, betrachten wir noch ein Beispiel.\n",
    "\n",
    "### **Beispiel:**\n",
    "\n",
    "Nehmen wir an eine Lehrkraft möchte die Noten seiner Klasse in Listen speichern. Dann könnte dies für 4 Schülerinnen zum Beispiel so aussehen:"
   ]
  },
  {
   "cell_type": "code",
   "execution_count": 1,
   "metadata": {},
   "outputs": [],
   "source": [
    "noten = [4,5,5.5,6]"
   ]
  },
  {
   "cell_type": "markdown",
   "metadata": {},
   "source": [
    "Damit die Lehrkraft auch weiss, welche Person zu welcher Note gehört, könnte sie auch noch die Namen in einer Liste speichern:"
   ]
  },
  {
   "cell_type": "code",
   "execution_count": 2,
   "metadata": {},
   "outputs": [],
   "source": [
    "namen = [\"Hannah\",\"Violet\",\"Betty\",\"Delilah\"]"
   ]
  },
  {
   "cell_type": "markdown",
   "metadata": {},
   "source": [
    "Die Noten und der Mittelwert könnten dann folgendermassen ausgegeben werden:"
   ]
  },
  {
   "cell_type": "code",
   "execution_count": 3,
   "metadata": {},
   "outputs": [
    {
     "name": "stdout",
     "output_type": "stream",
     "text": [
      "Die Note von Hannah lautet: 4\n",
      "Die Note von Violet lautet: 5\n",
      "Die Note von Betty lautet: 5.5\n",
      "Die Note von Delilah lautet: 6\n",
      "Mittelwert: 5.125\n"
     ]
    }
   ],
   "source": [
    "total = 0\n",
    "\n",
    "# Addiere alle Noten zu der Variable 'total'\n",
    "# Dier Variable 'total' speichert dann die Summe aller Noten\n",
    "for note in noten:\n",
    "    total += note\n",
    "\n",
    "# Für alle Zahlen im Intervall [0, 3] (angegeben mit i)\n",
    "# Schreibe den Wert mit der Nummerierung i der Liste namen/noten in die Kommandozeile\n",
    "for i in range(4):\n",
    "    print(f'Die Note von {namen[i]} lautet: {noten[i]}')\n",
    "\n",
    "# Zeigt uns den Mittelwert\n",
    "print(f'Mittelwert: {total/len(noten)}')"
   ]
  },
  {
   "cell_type": "markdown",
   "metadata": {},
   "source": [
    "Dies ist aber ziemlich umständlich. Möchte die Lehrkraft die Note von Betty nachschauen, muss sie zuerst den Index von Betty in der Liste namen suchen und dann das entsprechende Element aus der Liste noten ausgeben:"
   ]
  },
  {
   "cell_type": "code",
   "execution_count": 4,
   "metadata": {},
   "outputs": [
    {
     "name": "stdout",
     "output_type": "stream",
     "text": [
      "5.5\n"
     ]
    }
   ],
   "source": [
    "# Mit namen.index('Betty') erhalten wir den Index (die Nummerierung) des Elements *Betty* innerhalb der Liste namen\n",
    "print(noten[namen.index(\"Betty\")])"
   ]
  },
  {
   "cell_type": "markdown",
   "metadata": {},
   "source": [
    "Viel angenehmer wäre ein Befehl à la noten[\"Betty\"]. Dies geht in Python mit Dictionaries.\n",
    "\n",
    "## Dictionaries\n",
    " \n",
    "Ein Dictionary besteht aus einer Menge von **Schlüssel-Werte-Paaren**. Die Schlüssel können als *Einträge* im Dictionary betrachtet werden, während *jedem Schlüssel* ein *Wert* zugeordnet wird. Die *Schlüssel* und *Werte* im Dictionary können **beliebige Datentypen** enthalten. Wenn wir ein Dictionary erstellt haben, können wir ganz einfach für einen gegebenen Schlüssel den zugehörigen Wert abfragen.\n",
    "\n",
    "**Schreibweise (Syntax)**\n",
    "\n",
    "- In der Variable mit dem Namen `yearOfBirth` wird ein Dictionary abgespeichert\n",
    "- Ein Dictionary wird mit den geschweiften Klammern **{}** erstellt\n",
    "- Einzelne Schlüssel-Wert-Paare werden durch ein Komma `,` getrennt\n",
    "- Der Schlüssel und zugehörige Wert eines Schlüssel-Wert-Paares werden durch den Doppelpunkt `:` getrennt\n",
    "\n",
    "```python\n",
    "    yearOfBirth = {'Lisa': 1998, 'Fridolin': 2001, 'Rahel': 1994, 'Lars': 1999, 'Anne': 1980, 'David': 2005}\n",
    "```\n",
    "\n",
    "In diesem Dictionary sind alle *Schlüssel* vom Datentyp `str` während alle *Werte* vom Datentyp `int` sind.\n",
    "\n",
    "**Werte abfragen**\n",
    "\n",
    "Wenn ich nun den Jahrgang von `Fridolin` wissen will muss ich den *Wert* mit dem Schlüssel `Fridolin` in meinem Dictionary abfragen.\n",
    "Das kann ich mit den eckigen Klammern **[]** (wie bei Liesten).\n",
    "\n",
    "Wir fragen: *\"Welcher Wert ist dem Schlüssel `Fridolin` zugewiesen?\"*\n",
    "\n",
    "```python\n",
    "    # Dieser Ausdruck liefert 2001\n",
    "    yearOfBirth['Fridolin']\n",
    "```\n",
    "\n",
    "Dictionary Tutorials auf W3Schools:\n",
    "\n",
    "  * [Python Dictionaries](https://www.w3schools.com/python/python_dictionaries.asp)\n",
    "\n",
    "### Zurück zum Beispiel\n",
    "\n",
    "Nun könnten wir die Noten der Schülerinnen ganz einfach in einem Dictionary abspeichern.\n"
   ]
  },
  {
   "cell_type": "code",
   "execution_count": 5,
   "metadata": {},
   "outputs": [],
   "source": [
    "noten_dict = {\"Hannah\": 4, \"Violet\": 5, \"Betty\": 5.5, \"Delilah\": 6}"
   ]
  },
  {
   "cell_type": "markdown",
   "metadata": {},
   "source": [
    "Die Schlüssel-Wert Paare in diesem Dictionary sind:\n",
    "\n",
    "- Hannah: 4\n",
    "- Hannah: 5\n",
    "- Hannah: 5.5\n",
    "- Hannah: 6\n",
    "\n",
    "Nun können wir die Note von Hannah ganz einfach abfragen:"
   ]
  },
  {
   "cell_type": "code",
   "execution_count": 6,
   "metadata": {},
   "outputs": [
    {
     "name": "stdout",
     "output_type": "stream",
     "text": [
      "4\n"
     ]
    }
   ],
   "source": [
    "print(noten_dict[\"Hannah\"])"
   ]
  },
  {
   "cell_type": "markdown",
   "metadata": {},
   "source": [
    "### **Schlüssel abfragen**\n",
    "\n",
    "Wenn ich wissen will, welche *Schlüssel* in meinem Dictionary enthalten sind, kann ich eine einfache `for`-Schleife mit dem Dictionary verwenden.\n",
    "Das heisst, wenn ich die folgende Schreibweise verwende\n",
    "\n",
    "```python\n",
    "    for x in noten_dict:\n",
    "        print(x)\n",
    "```\n",
    "Dann enthält `x` in jeder Iteration den momentanen Schlüssel."
   ]
  },
  {
   "cell_type": "code",
   "execution_count": 7,
   "metadata": {},
   "outputs": [
    {
     "name": "stdout",
     "output_type": "stream",
     "text": [
      "Hannah\n",
      "Violet\n",
      "Betty\n",
      "Delilah\n"
     ]
    }
   ],
   "source": [
    "for key in noten_dict:\n",
    "    print(key)"
   ]
  },
  {
   "cell_type": "markdown",
   "metadata": {},
   "source": [
    "## **Werte abfragen**\n",
    "\n",
    "Wenn ich nun die **Werte** von meinem Dictionary abfragen will, kann ich die obige `for`-Schleife so umschreiben, dass in der `print()` Funktion der **zugehörige Wert** vom momentanen Key im Dictionary abgefragt wird."
   ]
  },
  {
   "cell_type": "code",
   "execution_count": 8,
   "metadata": {},
   "outputs": [
    {
     "name": "stdout",
     "output_type": "stream",
     "text": [
      "4\n",
      "5\n",
      "5.5\n",
      "6\n"
     ]
    }
   ],
   "source": [
    "for key in noten_dict:\n",
    "    print(noten_dict[key])"
   ]
  },
  {
   "cell_type": "markdown",
   "metadata": {},
   "source": [
    "Alternativ können wir auch direkt über alle Werte in einem Dictionary iterieren. Dies ist möglich, mit der integrierten der `values()`-Funktion. Die `values()`-Funktion erzeugt eine sogenannte *dynamische View*. Das heisst, wir könne jederzeit die aktuellen *Werte* des Dictionary mit `values()` abfragen.\n",
    "\n",
    "Diese Funktion ermöglicht uns die direkte Iteration über die Werte vom Dictionary.\n",
    "\n",
    "**ACHTUNG**: `noten_dict.values()` erzeugt **keine** Liste, sondern eine sogenannte View. Das heisst, du kannst diese View nicht wie eine Liste behandeln."
   ]
  },
  {
   "cell_type": "code",
   "execution_count": 25,
   "metadata": {},
   "outputs": [
    {
     "name": "stdout",
     "output_type": "stream",
     "text": [
      "<class 'dict_values'>\n",
      "4\n",
      "5\n",
      "5.5\n",
      "6\n",
      "4\n"
     ]
    }
   ],
   "source": [
    "for value in noten_dict.values():\n",
    "    print(value)"
   ]
  },
  {
   "cell_type": "markdown",
   "metadata": {},
   "source": [
    "Eine Weiter **dynamische View** kann mit der Funktion `items()` erzeugt werden. Sie ermöglicht uns eine einfache Iteration über die Schlüssel-Wert-Paare im Dictionary. <br>\n",
    "Beachte dabei, dass wir **zwei** Variablen als Iteratoren verwenden: \n",
    "`key` und `value`. \n",
    "\n",
    "Das heisst, bei jeder Iteration werden die Werte der Variablen `key` und `value` angepasst."
   ]
  },
  {
   "cell_type": "code",
   "execution_count": 26,
   "metadata": {},
   "outputs": [
    {
     "name": "stdout",
     "output_type": "stream",
     "text": [
      "<class 'dict_items'>\n",
      "Hannah 4\n",
      "Violet 5\n",
      "Betty 5.5\n",
      "Delilah 6\n",
      "Braga 4\n"
     ]
    }
   ],
   "source": [
    "for key, value in noten_dict.items():\n",
    "  print(key, value) "
   ]
  },
  {
   "cell_type": "markdown",
   "metadata": {},
   "source": [
    "Die Länge eines Dictionary kann, genau gleich wie bei Listen und Strings, mit len() bestimmt werden:"
   ]
  },
  {
   "cell_type": "code",
   "execution_count": 11,
   "metadata": {},
   "outputs": [
    {
     "name": "stdout",
     "output_type": "stream",
     "text": [
      "4\n"
     ]
    }
   ],
   "source": [
    "print(len(noten_dict)) "
   ]
  },
  {
   "cell_type": "markdown",
   "metadata": {},
   "source": [
    "### Ein neues Schlüssel-Wert-Paar hinzufügen/verändern\n",
    "\n",
    "Wenn wir ein neues Schlüssel-Wert-Paar dem Dictionary hinzufügen wollen, verwenden wir wieder die eckigen Klammern **[]**.<br>\n",
    "Ein neues Schlüssel-Werte-Paar kann wie folgt hinzugefügt werden:"
   ]
  },
  {
   "cell_type": "code",
   "execution_count": 27,
   "metadata": {},
   "outputs": [],
   "source": [
    "# Das Schlüssel-Wert-Paar Braga: 3 wird hinzugefügt\n",
    "noten_dict[\"Braga\"] = 3"
   ]
  },
  {
   "cell_type": "code",
   "execution_count": 13,
   "metadata": {},
   "outputs": [
    {
     "name": "stdout",
     "output_type": "stream",
     "text": [
      "{'Hannah': 4, 'Violet': 5, 'Betty': 5.5, 'Delilah': 6, 'Braga': 3}\n"
     ]
    }
   ],
   "source": [
    "print(noten_dict)"
   ]
  },
  {
   "cell_type": "markdown",
   "metadata": {},
   "source": [
    "In einem Dictionary darf jeder Schlüssel nur **einmal** vorkommen, Werte hingegen mehrmals.<br>\n",
    "Wird ein *existierenden Schlüssel-Werte-Paar* mit einem **bereits existierenden Schlüssel** hinzugefügt, wird der alte Eintrag **überschrieben/verändert**. "
   ]
  },
  {
   "cell_type": "code",
   "execution_count": 14,
   "metadata": {},
   "outputs": [],
   "source": [
    "noten_dict[\"Braga\"] = 4"
   ]
  },
  {
   "cell_type": "code",
   "execution_count": 15,
   "metadata": {},
   "outputs": [
    {
     "name": "stdout",
     "output_type": "stream",
     "text": [
      "{'Hannah': 4, 'Violet': 5, 'Betty': 5.5, 'Delilah': 6, 'Braga': 4}\n"
     ]
    }
   ],
   "source": [
    "print(noten_dict)"
   ]
  },
  {
   "cell_type": "markdown",
   "metadata": {},
   "source": [
    "### **Aufgabe 1:** Gegeben ist das folgende Programm:"
   ]
  },
  {
   "cell_type": "code",
   "execution_count": 16,
   "metadata": {},
   "outputs": [
    {
     "name": "stdout",
     "output_type": "stream",
     "text": [
      "Dein Name ist nicht in der Liste.\n"
     ]
    }
   ],
   "source": [
    "# dictionary mit passwörtern\n",
    "passwoerter = {\"Hans\": \"1234\", \"Lorelei\": \"$aUerR4hm\", \"Claudia\": \"W4nD3rCeerKUSS\"}\n",
    "name = input(\"Gib deinen Namen ein\")\n",
    "if name in passwoerter:\n",
    "    pw = input(\"Gib dein Passwort ein\")\n",
    "    if pw == passwoerter[name]:\n",
    "        print(\"Anmeldung erfolgreich!\")\n",
    "    else:\n",
    "        print(\"Passwort ist falsch!\")\n",
    "else:\n",
    "    print(\"Dein Name ist nicht in der Liste.\")"
   ]
  },
  {
   "cell_type": "markdown",
   "metadata": {},
   "source": [
    "Was genau macht das Programm?"
   ]
  },
  {
   "cell_type": "markdown",
   "metadata": {},
   "source": [
    "*Hier kommt deine Antwort hin*"
   ]
  },
  {
   "cell_type": "markdown",
   "metadata": {},
   "source": [
    "Mit welchen Eingaben bekommt man die Ausgabe \"Anmeldung erfolgreich\"? Mit welchen \"Passwort ist falsch\"?"
   ]
  },
  {
   "cell_type": "markdown",
   "metadata": {},
   "source": [
    "*Hier kommt deine Antwort hin*"
   ]
  },
  {
   "cell_type": "markdown",
   "metadata": {},
   "source": [
    "### **Aufgabe 2:** Auch bei Dictionaries können Comprehnsions verwendet werden, man spricht von \"Dict Comprehensions\".\n",
    "- Wie sieht das folgende Dictionary aus. Beantworte die Frage zuerst ohne Computer und überprüfe sie dann mit einem `print-Befehl`."
   ]
  },
  {
   "cell_type": "code",
   "execution_count": 17,
   "metadata": {},
   "outputs": [],
   "source": [
    "li1 = {x: x*x for x in range(1,10)}"
   ]
  },
  {
   "cell_type": "markdown",
   "metadata": {},
   "source": [
    "- Wie sieht das folgende Dictionary aus. Beantworte die Frage zuerst ohne Computer und überprüfe Sie dann mit einem print-Befehl."
   ]
  },
  {
   "cell_type": "code",
   "execution_count": 18,
   "metadata": {},
   "outputs": [],
   "source": [
    "li2 = {b: len(b) for b in [\"hallo\", \"velo\", \"haus\", \"garten\"]}"
   ]
  },
  {
   "cell_type": "markdown",
   "metadata": {},
   "source": [
    "- Erzeuge das folgende Dictionary mit einer Dict Comprehension: $\\{1: 2, 2: 4, 3: 6, 4: 8, 5: 10, 6: 12\\}$\n"
   ]
  },
  {
   "cell_type": "code",
   "execution_count": 19,
   "metadata": {},
   "outputs": [],
   "source": [
    "#Hier kommt dein Code hin."
   ]
  },
  {
   "cell_type": "markdown",
   "metadata": {},
   "source": [
    "### **Aufgabe 3:** \n",
    "\n",
    "Du möchtest ein Fantasy-Spiel erstellen. Dabei soll der Spieler/die Spielerin ein Inventar haben. Das Inventar wird dabei mit einem Dictonary modelliert. Das Inventar könnte zum Beispiel folgendermassen aussehen:"
   ]
  },
  {
   "cell_type": "code",
   "execution_count": 20,
   "metadata": {},
   "outputs": [],
   "source": [
    "inventar = {\"Goldstücke\": 12, \"Fakeln\": 3, \"Schwerter\": 2, \"Bogen\": 1, \"Pfeile\": 17}"
   ]
  },
  {
   "cell_type": "markdown",
   "metadata": {},
   "source": [
    "Schreibe eine Funktion `zeige_inventar`, welche das Inventar folgendermassen anzeigt:\n",
    "\n",
    "Inventar: <br>\n",
    "12 Goldstücke <br>\n",
    "3 Fakeln <br>\n",
    "2 Schwerter <br>\n",
    "1 Bogen <br>\n",
    "17 Pfeile <br>\n",
    "Anzahl Items: 17"
   ]
  },
  {
   "cell_type": "code",
   "execution_count": 21,
   "metadata": {},
   "outputs": [],
   "source": [
    "def zeige_inventar(inventarParameter):\n",
    "    #Hier kommt dein Code hin\n",
    "    pass\n",
    "\n",
    "zeige_inventar(inventar)"
   ]
  },
  {
   "cell_type": "markdown",
   "metadata": {},
   "source": [
    "Schreibe eine Funktion `genug_gold(inventar, betrag)`, welche überprüft, ob der Spieler/die Spielerin mindestens so viel Goldstücke hat, wie der Betrag (angegeben mit dem Parameter `betrag`) lautet.\n",
    "\n",
    "`genug_gold(inventar, 10)` müsste **True** zurückgeben, `genug_gold(inventar, 55)` **False**.<br>\n",
    "Das heisst, die Funktion hat als Rückgabewert (*return Statement*) einen Wahrheitswert."
   ]
  },
  {
   "cell_type": "code",
   "execution_count": 22,
   "metadata": {},
   "outputs": [
    {
     "name": "stdout",
     "output_type": "stream",
     "text": [
      "None\n",
      "None\n"
     ]
    }
   ],
   "source": [
    "def genug_gold(inventar,betrag):\n",
    "    #Hier kommt dein Code hin\n",
    "    pass\n",
    "\n",
    "print(genug_gold(inventar, 10))\n",
    "print(genug_gold(inventar, 55))"
   ]
  },
  {
   "cell_type": "markdown",
   "metadata": {},
   "source": [
    "Überlege dir weitere Funktionen für dein kleines Spiel.\n",
    "\n",
    "Beispiele:\n",
    "\n",
    "- Eine Funktion die überprüft ob im Inventar Gesamthaft mehr als x Artikel sind.\n",
    "- Eine Funktion die überprüft ob mit dem Pfeilbogen geschossen werden kann. (Ein Bogen muss vorhanden sein und mindestens ein Pfeil)\n",
    "- etc.."
   ]
  },
  {
   "cell_type": "code",
   "execution_count": 23,
   "metadata": {},
   "outputs": [],
   "source": [
    "# Hier kommt dein Code hin"
   ]
  },
  {
   "cell_type": "markdown",
   "metadata": {},
   "source": [
    "### **Zusatzaufgabe 2:** Wörterbuch\n",
    "\n",
    "Erstelle ein kleines Wörterbuch deutsch-englisch als Dictonary mit ca. 10 Einträgen (mindestens 2 davon sollten auf deutsch mit \"R\" beginnen) und schreibe ein Programm, welches alle Schlüssel-Wert-Paare ausgibt, deren Schlüssel (deutsches Wort) mit dem Buchstaben \"R\" beginnt."
   ]
  },
  {
   "cell_type": "code",
   "execution_count": 24,
   "metadata": {},
   "outputs": [],
   "source": [
    "#Hier kommt dein Code hin."
   ]
  }
 ],
 "metadata": {
  "interpreter": {
   "hash": "26130839a7e87fd59e038942810dbb4909e5232b32b1ad521e6a6bc3043702c6"
  },
  "kernelspec": {
   "display_name": "Python 3.8.8 64-bit ('base': conda)",
   "name": "python3"
  },
  "language_info": {
   "codemirror_mode": {
    "name": "ipython",
    "version": 3
   },
   "file_extension": ".py",
   "mimetype": "text/x-python",
   "name": "python",
   "nbconvert_exporter": "python",
   "pygments_lexer": "ipython3",
   "version": "3.9.7"
  },
  "orig_nbformat": 4
 },
 "nbformat": 4,
 "nbformat_minor": 2
}
